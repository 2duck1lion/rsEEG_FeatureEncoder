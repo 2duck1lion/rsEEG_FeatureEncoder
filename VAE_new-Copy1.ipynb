{
 "cells": [
  {
   "cell_type": "code",
   "execution_count": 1,
   "id": "1a916e56",
   "metadata": {},
   "outputs": [
    {
     "name": "stderr",
     "output_type": "stream",
     "text": [
      "2023-11-10 14:16:14.823474: I tensorflow/core/platform/cpu_feature_guard.cc:193] This TensorFlow binary is optimized with oneAPI Deep Neural Network Library (oneDNN) to use the following CPU instructions in performance-critical operations:  AVX2 FMA\n",
      "To enable them in other operations, rebuild TensorFlow with the appropriate compiler flags.\n",
      "2023-11-10 14:16:17.549782: E tensorflow/stream_executor/cuda/cuda_blas.cc:2981] Unable to register cuBLAS factory: Attempting to register factory for plugin cuBLAS when one has already been registered\n",
      "2023-11-10 14:16:23.113278: W tensorflow/stream_executor/platform/default/dso_loader.cc:64] Could not load dynamic library 'libnvinfer.so.7'; dlerror: libnvinfer.so.7: cannot open shared object file: No such file or directory\n",
      "2023-11-10 14:16:23.113536: W tensorflow/stream_executor/platform/default/dso_loader.cc:64] Could not load dynamic library 'libnvinfer_plugin.so.7'; dlerror: libnvinfer_plugin.so.7: cannot open shared object file: No such file or directory\n",
      "2023-11-10 14:16:23.113562: W tensorflow/compiler/tf2tensorrt/utils/py_utils.cc:38] TF-TRT Warning: Cannot dlopen some TensorRT libraries. If you would like to use Nvidia GPU with TensorRT, please make sure the missing libraries mentioned above are installed properly.\n"
     ]
    }
   ],
   "source": [
    "from tensorflow import keras\n",
    "from tensorflow.keras import optimizers\n",
    "from tensorflow.keras.optimizers import schedules\n",
    "import os\n",
    "#os.environ[\"CUDA_DEVICE_ORDER\"] = \"PCI_BUS_ID\"   #if like me you do not have a lot of memory in your GPU\n",
    "#os.environ[\"CUDA_VISIBLE_DEVICES\"] = \"\" #then these two lines force keras to use your CPU\n",
    "import keras\n",
    "from keras.models import Sequential\n",
    "from keras.layers import Dense, Flatten, Conv3D, MaxPooling3D, Dropout, BatchNormalization\n",
    "from keras.utils import to_categorical\n",
    "import numpy as np\n",
    "import matplotlib.pyplot as plt\n",
    "import h5py\n",
    "import librosa\n",
    "import os as os\n",
    "import pandas as pd\n",
    "import re\n",
    "import numpy as np\n",
    "from sklearn.metrics import precision_score, recall_score, accuracy_score\n",
    "from matplotlib import cm, colors, colorbar\n",
    "from matplotlib import pyplot as plt\n",
    "from sklearn.neural_network import MLPClassifier\n",
    "from sklearn.linear_model import RidgeClassifier\n",
    "rdg = RidgeClassifier(alpha=0.5)\n",
    "#mlp=MLPClassifier(random_state=1,max_iter=300,activation='relu',solver='sgd',learning_rate='constant',learning_rate_init=0.0001)\n",
    "mlp=MLPClassifier(random_state=1,max_iter=300,activation='relu')\n",
    "from sklearn.linear_model import LogisticRegression\n",
    "lgr=LogisticRegression(random_state=1,max_iter=500)\n",
    "from sklearn.tree import DecisionTreeClassifier\n",
    "DT = DecisionTreeClassifier(random_state=0,max_depth=10)\n",
    "from sklearn.ensemble import AdaBoostClassifier\n",
    "adb = AdaBoostClassifier(n_estimators=100, random_state=0)\n",
    "from sklearn.ensemble import GradientBoostingClassifier\n",
    "gbc= GradientBoostingClassifier(n_estimators=100, random_state=1)\n",
    "from sklearn.neighbors import KNeighborsClassifier\n",
    "knn = KNeighborsClassifier(n_neighbors=3)\n",
    "from sklearn.linear_model import SGDClassifier\n",
    "#SGD=SGDClassifier(loss= 'log',random_state=1,max_iter=100,early_stopping=True,learning_rate='optimal',validation_fraction=0.2)\n",
    "from sklearn.preprocessing import StandardScaler\n",
    "from sklearn.preprocessing import MinMaxScaler\n",
    "scaler = StandardScaler()\n",
    "mmscaler= MinMaxScaler()\n",
    "from sklearn.ensemble import RandomForestClassifier\n",
    "rf = RandomForestClassifier(max_depth=10, random_state=0)\n",
    "from sklearn.svm import SVC\n",
    "clf_svm=SVC(kernel='rbf')\n",
    "linear_svm=SVC(kernel='linear')\n",
    "from sklearn.cluster import KMeans\n",
    "from sklearn.decomposition import PCA\n",
    "pca = PCA(n_components=2)\n",
    "from scipy.spatial import ConvexHull, convex_hull_plot_2d\n",
    "from sklearn.cluster import DBSCAN\n",
    "from sklearn.decomposition import PCA\n",
    "from scipy.stats.mstats import mquantiles\n",
    "from scipy.stats import skew\n",
    "from sklearn.cluster import KMeans\n",
    "from sklearn.model_selection import LeaveOneOut\n",
    "pca = PCA(n_components=2, svd_solver='full')\n",
    "import random\n",
    "from sklearn.cluster import DBSCAN\n",
    "from sklearn.model_selection import train_test_split"
   ]
  },
  {
   "cell_type": "code",
   "execution_count": 2,
   "id": "d42e02b6",
   "metadata": {},
   "outputs": [],
   "source": [
    "def read_eeg(data):\n",
    "    with open(data) as f:\n",
    "        raw = []\n",
    "        for line in f:\n",
    "            line = line.split() # to deal with blank \n",
    "            if line:            # lines (ie skip them)\n",
    "                line = [int(float(i)) for i in line]\n",
    "                raw.append(line)\n",
    "    df = pd.DataFrame (raw,columns=['Channel_1','Channel_2','Channel_3','Channel_4','Channel_5','Channel_6','Channel_7','Channel_8',\n",
    "                            'Channel_9','Channel_10','Channel_11','Channel_12','Channel_13','Channel_14','Channel_15'\n",
    "                             ,'Channel_16','Channel_17','Channel_18','Channel_19'])\n",
    "    return df\n",
    "\n",
    "from scipy.signal import butter, lfilter\n",
    "def butter_bandpass(lowcut, highcut, fs, order=5):\n",
    "    nyq = 0.5 * fs\n",
    "    low = lowcut / nyq\n",
    "    high = highcut / nyq\n",
    "    b, a = butter(order, [low, high], btype='band')\n",
    "    return b, a\n",
    "def butter_bandpass_filter(data, lowcut, highcut, fs, order=6):\n",
    "    b, a = butter_bandpass(lowcut, highcut, fs, order=order)\n",
    "    y = lfilter(b, a, data)\n",
    "    return y\n",
    "\n",
    "def noise_filter(df):\n",
    "    filt_data=pd.Series()\n",
    "    for i in range(0, df.shape[1]):\n",
    "        signal = df.iloc[:,i].values\n",
    "        data=butter_bandpass_filter(signal,0.1,45,128,3)\n",
    "        \n",
    "        filt_data=pd.concat([filt_data,pd.Series(data)],axis=1)\n",
    "    filt_data=filt_data.iloc[:,1:]\n",
    "    filt_data.columns = ['1', '2', '3', '4', '5', '6', '7', '8', '9', '10', '11', '12',\n",
    "       '13', '14', '15', '16', '17', '18', '19']\n",
    "    return filt_data"
   ]
  },
  {
   "cell_type": "code",
   "execution_count": 3,
   "id": "e9fa63b2",
   "metadata": {},
   "outputs": [],
   "source": [
    "total_tps=34944-5*128 # cut all EEG of all subjects into equal length = 34944-5*128=34304 time points\n",
    "number_of_epochs=26 # segment each subject's EEG into 26 epochs\n",
    "number_of_tps=1280 # each epoch include 1280 time points"
   ]
  },
  {
   "cell_type": "code",
   "execution_count": 4,
   "id": "7980b75f",
   "metadata": {},
   "outputs": [
    {
     "name": "stdout",
     "output_type": "stream",
     "text": [
      "eeg_ob_0 (30, 34304, 19)\n",
      "eeg_l_0 (30, 34304, 19)\n",
      "X_0 (60, 34304, 19)\n"
     ]
    }
   ],
   "source": [
    "os.chdir(\"/home/jupy/Raw_data/Time_0/Obese\")\n",
    "ob_0=os.listdir(os.getcwd())\n",
    "ob_0.remove('.ipynb_checkpoints')\n",
    "#ob_0.remove('New')\n",
    "\n",
    "eeg_ob_0=np.zeros([len(ob_0),total_tps,19])\n",
    "for i in range(0,len(ob_0)):\n",
    "    eeg_ob_0[i,:,:]=(read_eeg(ob_0[i]).values)[0:total_tps,:]\n",
    "\n",
    "os.chdir(\"/home/jupy/Raw_data/Time_0/Lean\")\n",
    "l_0=os.listdir(os.getcwd())\n",
    "l_0.remove('.ipynb_checkpoints')\n",
    "#l_0.remove('New')\n",
    "\n",
    "eeg_l_0=np.zeros([len(l_0),total_tps,19])\n",
    "for i in range(0,len(l_0)):\n",
    "    eeg_l_0[i,:,:]=(read_eeg(l_0[i]).values)[0:total_tps,:]\n",
    "    \n",
    "X_0=np.vstack([eeg_ob_0,eeg_l_0])\n",
    "print ('eeg_ob_0',eeg_ob_0.shape)\n",
    "print ('eeg_l_0',eeg_l_0.shape)\n",
    "print('X_0',X_0.shape)"
   ]
  },
  {
   "cell_type": "code",
   "execution_count": 5,
   "id": "2a6fa63e",
   "metadata": {
    "scrolled": true
   },
   "outputs": [
    {
     "name": "stderr",
     "output_type": "stream",
     "text": [
      "/tmp/ipykernel_49807/877411679.py:27: FutureWarning: The default dtype for empty Series will be 'object' instead of 'float64' in a future version. Specify a dtype explicitly to silence this warning.\n",
      "  filt_data=pd.Series()\n",
      "/tmp/ipykernel_49807/877411679.py:27: FutureWarning: The default dtype for empty Series will be 'object' instead of 'float64' in a future version. Specify a dtype explicitly to silence this warning.\n",
      "  filt_data=pd.Series()\n",
      "/tmp/ipykernel_49807/877411679.py:27: FutureWarning: The default dtype for empty Series will be 'object' instead of 'float64' in a future version. Specify a dtype explicitly to silence this warning.\n",
      "  filt_data=pd.Series()\n",
      "/tmp/ipykernel_49807/877411679.py:27: FutureWarning: The default dtype for empty Series will be 'object' instead of 'float64' in a future version. Specify a dtype explicitly to silence this warning.\n",
      "  filt_data=pd.Series()\n",
      "/tmp/ipykernel_49807/877411679.py:27: FutureWarning: The default dtype for empty Series will be 'object' instead of 'float64' in a future version. Specify a dtype explicitly to silence this warning.\n",
      "  filt_data=pd.Series()\n",
      "/tmp/ipykernel_49807/877411679.py:27: FutureWarning: The default dtype for empty Series will be 'object' instead of 'float64' in a future version. Specify a dtype explicitly to silence this warning.\n",
      "  filt_data=pd.Series()\n",
      "/tmp/ipykernel_49807/877411679.py:27: FutureWarning: The default dtype for empty Series will be 'object' instead of 'float64' in a future version. Specify a dtype explicitly to silence this warning.\n",
      "  filt_data=pd.Series()\n",
      "/tmp/ipykernel_49807/877411679.py:27: FutureWarning: The default dtype for empty Series will be 'object' instead of 'float64' in a future version. Specify a dtype explicitly to silence this warning.\n",
      "  filt_data=pd.Series()\n",
      "/tmp/ipykernel_49807/877411679.py:27: FutureWarning: The default dtype for empty Series will be 'object' instead of 'float64' in a future version. Specify a dtype explicitly to silence this warning.\n",
      "  filt_data=pd.Series()\n",
      "/tmp/ipykernel_49807/877411679.py:27: FutureWarning: The default dtype for empty Series will be 'object' instead of 'float64' in a future version. Specify a dtype explicitly to silence this warning.\n",
      "  filt_data=pd.Series()\n",
      "/tmp/ipykernel_49807/877411679.py:27: FutureWarning: The default dtype for empty Series will be 'object' instead of 'float64' in a future version. Specify a dtype explicitly to silence this warning.\n",
      "  filt_data=pd.Series()\n",
      "/tmp/ipykernel_49807/877411679.py:27: FutureWarning: The default dtype for empty Series will be 'object' instead of 'float64' in a future version. Specify a dtype explicitly to silence this warning.\n",
      "  filt_data=pd.Series()\n",
      "/tmp/ipykernel_49807/877411679.py:27: FutureWarning: The default dtype for empty Series will be 'object' instead of 'float64' in a future version. Specify a dtype explicitly to silence this warning.\n",
      "  filt_data=pd.Series()\n",
      "/tmp/ipykernel_49807/877411679.py:27: FutureWarning: The default dtype for empty Series will be 'object' instead of 'float64' in a future version. Specify a dtype explicitly to silence this warning.\n",
      "  filt_data=pd.Series()\n",
      "/tmp/ipykernel_49807/877411679.py:27: FutureWarning: The default dtype for empty Series will be 'object' instead of 'float64' in a future version. Specify a dtype explicitly to silence this warning.\n",
      "  filt_data=pd.Series()\n",
      "/tmp/ipykernel_49807/877411679.py:27: FutureWarning: The default dtype for empty Series will be 'object' instead of 'float64' in a future version. Specify a dtype explicitly to silence this warning.\n",
      "  filt_data=pd.Series()\n",
      "/tmp/ipykernel_49807/877411679.py:27: FutureWarning: The default dtype for empty Series will be 'object' instead of 'float64' in a future version. Specify a dtype explicitly to silence this warning.\n",
      "  filt_data=pd.Series()\n",
      "/tmp/ipykernel_49807/877411679.py:27: FutureWarning: The default dtype for empty Series will be 'object' instead of 'float64' in a future version. Specify a dtype explicitly to silence this warning.\n",
      "  filt_data=pd.Series()\n",
      "/tmp/ipykernel_49807/877411679.py:27: FutureWarning: The default dtype for empty Series will be 'object' instead of 'float64' in a future version. Specify a dtype explicitly to silence this warning.\n",
      "  filt_data=pd.Series()\n",
      "/tmp/ipykernel_49807/877411679.py:27: FutureWarning: The default dtype for empty Series will be 'object' instead of 'float64' in a future version. Specify a dtype explicitly to silence this warning.\n",
      "  filt_data=pd.Series()\n",
      "/tmp/ipykernel_49807/877411679.py:27: FutureWarning: The default dtype for empty Series will be 'object' instead of 'float64' in a future version. Specify a dtype explicitly to silence this warning.\n",
      "  filt_data=pd.Series()\n",
      "/tmp/ipykernel_49807/877411679.py:27: FutureWarning: The default dtype for empty Series will be 'object' instead of 'float64' in a future version. Specify a dtype explicitly to silence this warning.\n",
      "  filt_data=pd.Series()\n",
      "/tmp/ipykernel_49807/877411679.py:27: FutureWarning: The default dtype for empty Series will be 'object' instead of 'float64' in a future version. Specify a dtype explicitly to silence this warning.\n",
      "  filt_data=pd.Series()\n",
      "/tmp/ipykernel_49807/877411679.py:27: FutureWarning: The default dtype for empty Series will be 'object' instead of 'float64' in a future version. Specify a dtype explicitly to silence this warning.\n",
      "  filt_data=pd.Series()\n",
      "/tmp/ipykernel_49807/877411679.py:27: FutureWarning: The default dtype for empty Series will be 'object' instead of 'float64' in a future version. Specify a dtype explicitly to silence this warning.\n",
      "  filt_data=pd.Series()\n",
      "/tmp/ipykernel_49807/877411679.py:27: FutureWarning: The default dtype for empty Series will be 'object' instead of 'float64' in a future version. Specify a dtype explicitly to silence this warning.\n",
      "  filt_data=pd.Series()\n",
      "/tmp/ipykernel_49807/877411679.py:27: FutureWarning: The default dtype for empty Series will be 'object' instead of 'float64' in a future version. Specify a dtype explicitly to silence this warning.\n",
      "  filt_data=pd.Series()\n",
      "/tmp/ipykernel_49807/877411679.py:27: FutureWarning: The default dtype for empty Series will be 'object' instead of 'float64' in a future version. Specify a dtype explicitly to silence this warning.\n",
      "  filt_data=pd.Series()\n",
      "/tmp/ipykernel_49807/877411679.py:27: FutureWarning: The default dtype for empty Series will be 'object' instead of 'float64' in a future version. Specify a dtype explicitly to silence this warning.\n",
      "  filt_data=pd.Series()\n",
      "/tmp/ipykernel_49807/877411679.py:27: FutureWarning: The default dtype for empty Series will be 'object' instead of 'float64' in a future version. Specify a dtype explicitly to silence this warning.\n",
      "  filt_data=pd.Series()\n",
      "/tmp/ipykernel_49807/877411679.py:27: FutureWarning: The default dtype for empty Series will be 'object' instead of 'float64' in a future version. Specify a dtype explicitly to silence this warning.\n",
      "  filt_data=pd.Series()\n",
      "/tmp/ipykernel_49807/877411679.py:27: FutureWarning: The default dtype for empty Series will be 'object' instead of 'float64' in a future version. Specify a dtype explicitly to silence this warning.\n",
      "  filt_data=pd.Series()\n",
      "/tmp/ipykernel_49807/877411679.py:27: FutureWarning: The default dtype for empty Series will be 'object' instead of 'float64' in a future version. Specify a dtype explicitly to silence this warning.\n",
      "  filt_data=pd.Series()\n",
      "/tmp/ipykernel_49807/877411679.py:27: FutureWarning: The default dtype for empty Series will be 'object' instead of 'float64' in a future version. Specify a dtype explicitly to silence this warning.\n",
      "  filt_data=pd.Series()\n",
      "/tmp/ipykernel_49807/877411679.py:27: FutureWarning: The default dtype for empty Series will be 'object' instead of 'float64' in a future version. Specify a dtype explicitly to silence this warning.\n",
      "  filt_data=pd.Series()\n",
      "/tmp/ipykernel_49807/877411679.py:27: FutureWarning: The default dtype for empty Series will be 'object' instead of 'float64' in a future version. Specify a dtype explicitly to silence this warning.\n",
      "  filt_data=pd.Series()\n",
      "/tmp/ipykernel_49807/877411679.py:27: FutureWarning: The default dtype for empty Series will be 'object' instead of 'float64' in a future version. Specify a dtype explicitly to silence this warning.\n",
      "  filt_data=pd.Series()\n",
      "/tmp/ipykernel_49807/877411679.py:27: FutureWarning: The default dtype for empty Series will be 'object' instead of 'float64' in a future version. Specify a dtype explicitly to silence this warning.\n",
      "  filt_data=pd.Series()\n",
      "/tmp/ipykernel_49807/877411679.py:27: FutureWarning: The default dtype for empty Series will be 'object' instead of 'float64' in a future version. Specify a dtype explicitly to silence this warning.\n",
      "  filt_data=pd.Series()\n",
      "/tmp/ipykernel_49807/877411679.py:27: FutureWarning: The default dtype for empty Series will be 'object' instead of 'float64' in a future version. Specify a dtype explicitly to silence this warning.\n",
      "  filt_data=pd.Series()\n",
      "/tmp/ipykernel_49807/877411679.py:27: FutureWarning: The default dtype for empty Series will be 'object' instead of 'float64' in a future version. Specify a dtype explicitly to silence this warning.\n",
      "  filt_data=pd.Series()\n",
      "/tmp/ipykernel_49807/877411679.py:27: FutureWarning: The default dtype for empty Series will be 'object' instead of 'float64' in a future version. Specify a dtype explicitly to silence this warning.\n",
      "  filt_data=pd.Series()\n",
      "/tmp/ipykernel_49807/877411679.py:27: FutureWarning: The default dtype for empty Series will be 'object' instead of 'float64' in a future version. Specify a dtype explicitly to silence this warning.\n",
      "  filt_data=pd.Series()\n",
      "/tmp/ipykernel_49807/877411679.py:27: FutureWarning: The default dtype for empty Series will be 'object' instead of 'float64' in a future version. Specify a dtype explicitly to silence this warning.\n",
      "  filt_data=pd.Series()\n",
      "/tmp/ipykernel_49807/877411679.py:27: FutureWarning: The default dtype for empty Series will be 'object' instead of 'float64' in a future version. Specify a dtype explicitly to silence this warning.\n",
      "  filt_data=pd.Series()\n",
      "/tmp/ipykernel_49807/877411679.py:27: FutureWarning: The default dtype for empty Series will be 'object' instead of 'float64' in a future version. Specify a dtype explicitly to silence this warning.\n",
      "  filt_data=pd.Series()\n",
      "/tmp/ipykernel_49807/877411679.py:27: FutureWarning: The default dtype for empty Series will be 'object' instead of 'float64' in a future version. Specify a dtype explicitly to silence this warning.\n",
      "  filt_data=pd.Series()\n",
      "/tmp/ipykernel_49807/877411679.py:27: FutureWarning: The default dtype for empty Series will be 'object' instead of 'float64' in a future version. Specify a dtype explicitly to silence this warning.\n",
      "  filt_data=pd.Series()\n",
      "/tmp/ipykernel_49807/877411679.py:27: FutureWarning: The default dtype for empty Series will be 'object' instead of 'float64' in a future version. Specify a dtype explicitly to silence this warning.\n",
      "  filt_data=pd.Series()\n",
      "/tmp/ipykernel_49807/877411679.py:27: FutureWarning: The default dtype for empty Series will be 'object' instead of 'float64' in a future version. Specify a dtype explicitly to silence this warning.\n",
      "  filt_data=pd.Series()\n",
      "/tmp/ipykernel_49807/877411679.py:27: FutureWarning: The default dtype for empty Series will be 'object' instead of 'float64' in a future version. Specify a dtype explicitly to silence this warning.\n",
      "  filt_data=pd.Series()\n",
      "/tmp/ipykernel_49807/877411679.py:27: FutureWarning: The default dtype for empty Series will be 'object' instead of 'float64' in a future version. Specify a dtype explicitly to silence this warning.\n",
      "  filt_data=pd.Series()\n",
      "/tmp/ipykernel_49807/877411679.py:27: FutureWarning: The default dtype for empty Series will be 'object' instead of 'float64' in a future version. Specify a dtype explicitly to silence this warning.\n",
      "  filt_data=pd.Series()\n",
      "/tmp/ipykernel_49807/877411679.py:27: FutureWarning: The default dtype for empty Series will be 'object' instead of 'float64' in a future version. Specify a dtype explicitly to silence this warning.\n",
      "  filt_data=pd.Series()\n",
      "/tmp/ipykernel_49807/877411679.py:27: FutureWarning: The default dtype for empty Series will be 'object' instead of 'float64' in a future version. Specify a dtype explicitly to silence this warning.\n",
      "  filt_data=pd.Series()\n",
      "/tmp/ipykernel_49807/877411679.py:27: FutureWarning: The default dtype for empty Series will be 'object' instead of 'float64' in a future version. Specify a dtype explicitly to silence this warning.\n",
      "  filt_data=pd.Series()\n",
      "/tmp/ipykernel_49807/877411679.py:27: FutureWarning: The default dtype for empty Series will be 'object' instead of 'float64' in a future version. Specify a dtype explicitly to silence this warning.\n",
      "  filt_data=pd.Series()\n",
      "/tmp/ipykernel_49807/877411679.py:27: FutureWarning: The default dtype for empty Series will be 'object' instead of 'float64' in a future version. Specify a dtype explicitly to silence this warning.\n",
      "  filt_data=pd.Series()\n",
      "/tmp/ipykernel_49807/877411679.py:27: FutureWarning: The default dtype for empty Series will be 'object' instead of 'float64' in a future version. Specify a dtype explicitly to silence this warning.\n",
      "  filt_data=pd.Series()\n",
      "/tmp/ipykernel_49807/877411679.py:27: FutureWarning: The default dtype for empty Series will be 'object' instead of 'float64' in a future version. Specify a dtype explicitly to silence this warning.\n",
      "  filt_data=pd.Series()\n"
     ]
    }
   ],
   "source": [
    "y=[0]*30+[1]*30\n",
    "\n",
    "X_0_clean=np.zeros([60, 34304, 19])\n",
    "for i in range(0,X_0.shape[0]):\n",
    "    X_0_clean[i,:,:]=noise_filter(pd.DataFrame(X_0[i,:,:]))\n",
    "X_0_clean=X_0_clean[:,0:int(number_of_epochs*number_of_tps),:]\n",
    "\n",
    "X2_0=np.zeros([number_of_epochs*X_0_clean.shape[0],int(number_of_tps),19])\n",
    "for chan in range(0,19):\n",
    "    X1=np.zeros([number_of_epochs*X_0_clean.shape[0],int(number_of_tps)])\n",
    "    for subj in range(0,X_0_clean.shape[0]):\n",
    "        X1[subj*number_of_epochs:(subj+1)*number_of_epochs,:]=X_0_clean[subj,0:int(number_of_epochs*number_of_tps),chan].reshape(int(number_of_epochs),int(number_of_tps))\n",
    "    X2_0[:,:,chan]=X1"
   ]
  },
  {
   "cell_type": "code",
   "execution_count": 6,
   "id": "4851e22e",
   "metadata": {},
   "outputs": [
    {
     "name": "stdout",
     "output_type": "stream",
     "text": [
      "(1560, 19, 1280)\n"
     ]
    }
   ],
   "source": [
    "XX_0=np.zeros([X2_0.shape[0],19,number_of_tps])\n",
    "for i in range(0,X2_0.shape[0]):\n",
    "    XX_0[i,:,:]=X2_0[i,:,:].transpose()\n",
    "print(XX_0.shape)"
   ]
  },
  {
   "cell_type": "code",
   "execution_count": 7,
   "id": "d3abc42d",
   "metadata": {},
   "outputs": [
    {
     "data": {
      "text/plain": [
       "1560"
      ]
     },
     "execution_count": 7,
     "metadata": {},
     "output_type": "execute_result"
    }
   ],
   "source": [
    "Y2=[]\n",
    "for n in y:\n",
    "    Y2=Y2+[n]*number_of_epochs\n",
    "len(Y2)"
   ]
  },
  {
   "cell_type": "code",
   "execution_count": 8,
   "id": "695ca7bc",
   "metadata": {},
   "outputs": [],
   "source": [
    "del eeg_l_0\n",
    "del eeg_ob_0\n",
    "del X_0\n",
    "del X_0_clean\n",
    "del X2_0"
   ]
  },
  {
   "cell_type": "code",
   "execution_count": 9,
   "id": "3148fa38",
   "metadata": {},
   "outputs": [],
   "source": [
    "y_test_short=[1,1,1,0,0,0]\n",
    "\n",
    "def subj_class_prob(result):\n",
    "    pred=[]\n",
    "    for i in range(0,6):\n",
    "        #print(np.where(np.array(result[i*number_of_epochs:(i+1)*number_of_epochs])==1)[0].shape[0]/number_of_epochs)\n",
    "        print(sum(predicted[i*number_of_epochs:(i+1)*number_of_epochs])[0], sum(predicted[i*number_of_epochs:(i+1)*number_of_epochs])[1])\n",
    "        if sum(predicted[i*number_of_epochs:(i+1)*number_of_epochs])[0]>sum(predicted[i*number_of_epochs:(i+1)*number_of_epochs])[1]:\n",
    "            pred.append(0)\n",
    "        else:\n",
    "            pred.append(1)\n",
    "    return pred"
   ]
  },
  {
   "cell_type": "markdown",
   "id": "466c9e47",
   "metadata": {},
   "source": [
    "# VAE"
   ]
  },
  {
   "cell_type": "code",
   "execution_count": 10,
   "id": "c64f6961",
   "metadata": {},
   "outputs": [],
   "source": [
    "from keras_self_attention import SeqSelfAttention\n",
    "import tensorflow as tf\n",
    "from tensorflow.keras.models import Model\n",
    "from tensorflow.keras.layers import Dense, Activation, Permute, Dropout,Add,LSTM,Reshape,Bidirectional\n",
    "from tensorflow.keras.layers import Conv2D, MaxPooling2D, AveragePooling2D,AveragePooling1D,GlobalAveragePooling2D\n",
    "from tensorflow.keras.layers import SeparableConv2D, DepthwiseConv2D\n",
    "from tensorflow.keras.layers import BatchNormalization\n",
    "from tensorflow.keras.layers import SpatialDropout2D\n",
    "from tensorflow.keras.regularizers import l1_l2\n",
    "from tensorflow.keras.layers import Input, Flatten\n",
    "from tensorflow.keras.constraints import max_norm\n",
    "from tensorflow.keras import backend as K\n",
    "\n",
    "from tensorflow.keras.layers import Input, Conv1D,Conv2D, Conv2DTranspose, BatchNormalization, LeakyReLU, Dense, Lambda, Reshape, Flatten\n",
    "from tensorflow.keras.models import Model\n",
    "from tensorflow.keras.losses import mse\n",
    "from tensorflow.keras.optimizers import Adam\n",
    "from tensorflow.keras.callbacks import EarlyStopping\n",
    "from tensorflow.keras import backend as K\n",
    "\n",
    "from tensorflow.keras.models import Sequential, save_model, load_model\n",
    "from tensorflow.keras.layers import Input, Conv1D,Conv2D, Conv2DTranspose, BatchNormalization, LeakyReLU, Dense, Lambda, Reshape, Flatten\n",
    "from tensorflow.keras.models import Model\n",
    "from tensorflow.keras.losses import mse\n",
    "from tensorflow.keras.optimizers import Adam\n",
    "from tensorflow.keras.callbacks import EarlyStopping\n",
    "from tensorflow.keras import backend as K\n",
    "from sklearn.preprocessing import minmax_scale"
   ]
  },
  {
   "cell_type": "markdown",
   "id": "92023707",
   "metadata": {},
   "source": [
    "# feature extraction"
   ]
  },
  {
   "cell_type": "code",
   "execution_count": 11,
   "id": "c6698c60",
   "metadata": {
    "scrolled": true
   },
   "outputs": [
    {
     "name": "stderr",
     "output_type": "stream",
     "text": [
      "2023-11-10 16:15:42.743594: E tensorflow/stream_executor/cuda/cuda_driver.cc:265] failed call to cuInit: CUDA_ERROR_NO_DEVICE: no CUDA-capable device is detected\n",
      "2023-11-10 16:15:42.743659: I tensorflow/stream_executor/cuda/cuda_diagnostics.cc:156] kernel driver does not appear to be running on this host (panata): /proc/driver/nvidia/version does not exist\n",
      "2023-11-10 16:15:42.759168: I tensorflow/core/platform/cpu_feature_guard.cc:193] This TensorFlow binary is optimized with oneAPI Deep Neural Network Library (oneDNN) to use the following CPU instructions in performance-critical operations:  AVX2 FMA\n",
      "To enable them in other operations, rebuild TensorFlow with the appropriate compiler flags.\n"
     ]
    },
    {
     "name": "stdout",
     "output_type": "stream",
     "text": [
      "WARNING:tensorflow:No training configuration found in save file, so the model was *not* compiled. Compile it manually.\n",
      "1/1 [==============================] - 1s 954ms/step\n",
      "WARNING:tensorflow:No training configuration found in save file, so the model was *not* compiled. Compile it manually.\n",
      "1/1 [==============================] - 0s 46ms/step\n",
      "WARNING:tensorflow:No training configuration found in save file, so the model was *not* compiled. Compile it manually.\n",
      "1/1 [==============================] - 0s 48ms/step\n",
      "WARNING:tensorflow:No training configuration found in save file, so the model was *not* compiled. Compile it manually.\n",
      "1/1 [==============================] - 0s 46ms/step\n",
      "WARNING:tensorflow:No training configuration found in save file, so the model was *not* compiled. Compile it manually.\n",
      "WARNING:tensorflow:5 out of the last 5 calls to <function Model.make_predict_function.<locals>.predict_function at 0x7fc14814c940> triggered tf.function retracing. Tracing is expensive and the excessive number of tracings could be due to (1) creating @tf.function repeatedly in a loop, (2) passing tensors with different shapes, (3) passing Python objects instead of tensors. For (1), please define your @tf.function outside of the loop. For (2), @tf.function has reduce_retracing=True option that can avoid unnecessary retracing. For (3), please refer to https://www.tensorflow.org/guide/function#controlling_retracing and https://www.tensorflow.org/api_docs/python/tf/function for  more details.\n",
      "1/1 [==============================] - 0s 46ms/step\n",
      "WARNING:tensorflow:No training configuration found in save file, so the model was *not* compiled. Compile it manually.\n",
      "WARNING:tensorflow:6 out of the last 6 calls to <function Model.make_predict_function.<locals>.predict_function at 0x7fc13ae54e50> triggered tf.function retracing. Tracing is expensive and the excessive number of tracings could be due to (1) creating @tf.function repeatedly in a loop, (2) passing tensors with different shapes, (3) passing Python objects instead of tensors. For (1), please define your @tf.function outside of the loop. For (2), @tf.function has reduce_retracing=True option that can avoid unnecessary retracing. For (3), please refer to https://www.tensorflow.org/guide/function#controlling_retracing and https://www.tensorflow.org/api_docs/python/tf/function for  more details.\n",
      "1/1 [==============================] - 0s 47ms/step\n",
      "WARNING:tensorflow:No training configuration found in save file, so the model was *not* compiled. Compile it manually.\n",
      "1/1 [==============================] - 0s 45ms/step\n",
      "WARNING:tensorflow:No training configuration found in save file, so the model was *not* compiled. Compile it manually.\n",
      "1/1 [==============================] - 0s 47ms/step\n",
      "WARNING:tensorflow:No training configuration found in save file, so the model was *not* compiled. Compile it manually.\n",
      "1/1 [==============================] - 0s 44ms/step\n",
      "WARNING:tensorflow:No training configuration found in save file, so the model was *not* compiled. Compile it manually.\n",
      "1/1 [==============================] - 0s 49ms/step\n",
      "WARNING:tensorflow:No training configuration found in save file, so the model was *not* compiled. Compile it manually.\n",
      "1/1 [==============================] - 0s 45ms/step\n",
      "WARNING:tensorflow:No training configuration found in save file, so the model was *not* compiled. Compile it manually.\n",
      "1/1 [==============================] - 0s 46ms/step\n",
      "WARNING:tensorflow:No training configuration found in save file, so the model was *not* compiled. Compile it manually.\n",
      "1/1 [==============================] - 0s 46ms/step\n",
      "WARNING:tensorflow:No training configuration found in save file, so the model was *not* compiled. Compile it manually.\n",
      "1/1 [==============================] - 0s 44ms/step\n",
      "WARNING:tensorflow:No training configuration found in save file, so the model was *not* compiled. Compile it manually.\n",
      "1/1 [==============================] - 0s 46ms/step\n",
      "WARNING:tensorflow:No training configuration found in save file, so the model was *not* compiled. Compile it manually.\n",
      "1/1 [==============================] - 0s 47ms/step\n",
      "WARNING:tensorflow:No training configuration found in save file, so the model was *not* compiled. Compile it manually.\n",
      "1/1 [==============================] - 0s 43ms/step\n",
      "WARNING:tensorflow:No training configuration found in save file, so the model was *not* compiled. Compile it manually.\n",
      "1/1 [==============================] - 0s 44ms/step\n",
      "WARNING:tensorflow:No training configuration found in save file, so the model was *not* compiled. Compile it manually.\n",
      "1/1 [==============================] - 0s 46ms/step\n",
      "WARNING:tensorflow:No training configuration found in save file, so the model was *not* compiled. Compile it manually.\n",
      "1/1 [==============================] - 0s 45ms/step\n",
      "WARNING:tensorflow:No training configuration found in save file, so the model was *not* compiled. Compile it manually.\n",
      "1/1 [==============================] - 0s 44ms/step\n",
      "WARNING:tensorflow:No training configuration found in save file, so the model was *not* compiled. Compile it manually.\n",
      "1/1 [==============================] - 0s 45ms/step\n",
      "WARNING:tensorflow:No training configuration found in save file, so the model was *not* compiled. Compile it manually.\n",
      "1/1 [==============================] - 0s 46ms/step\n",
      "WARNING:tensorflow:No training configuration found in save file, so the model was *not* compiled. Compile it manually.\n",
      "1/1 [==============================] - 0s 47ms/step\n",
      "WARNING:tensorflow:No training configuration found in save file, so the model was *not* compiled. Compile it manually.\n",
      "1/1 [==============================] - 0s 46ms/step\n",
      "WARNING:tensorflow:No training configuration found in save file, so the model was *not* compiled. Compile it manually.\n",
      "1/1 [==============================] - 0s 44ms/step\n",
      "WARNING:tensorflow:No training configuration found in save file, so the model was *not* compiled. Compile it manually.\n",
      "1/1 [==============================] - 0s 45ms/step\n",
      "WARNING:tensorflow:No training configuration found in save file, so the model was *not* compiled. Compile it manually.\n",
      "1/1 [==============================] - 0s 46ms/step\n",
      "WARNING:tensorflow:No training configuration found in save file, so the model was *not* compiled. Compile it manually.\n",
      "1/1 [==============================] - 0s 45ms/step\n",
      "WARNING:tensorflow:No training configuration found in save file, so the model was *not* compiled. Compile it manually.\n",
      "1/1 [==============================] - 0s 44ms/step\n",
      "WARNING:tensorflow:No training configuration found in save file, so the model was *not* compiled. Compile it manually.\n",
      "1/1 [==============================] - 0s 44ms/step\n",
      "WARNING:tensorflow:No training configuration found in save file, so the model was *not* compiled. Compile it manually.\n",
      "1/1 [==============================] - 0s 45ms/step\n",
      "WARNING:tensorflow:No training configuration found in save file, so the model was *not* compiled. Compile it manually.\n",
      "1/1 [==============================] - 0s 45ms/step\n",
      "WARNING:tensorflow:No training configuration found in save file, so the model was *not* compiled. Compile it manually.\n",
      "1/1 [==============================] - 0s 44ms/step\n",
      "WARNING:tensorflow:No training configuration found in save file, so the model was *not* compiled. Compile it manually.\n",
      "1/1 [==============================] - 0s 45ms/step\n",
      "WARNING:tensorflow:No training configuration found in save file, so the model was *not* compiled. Compile it manually.\n",
      "1/1 [==============================] - 0s 43ms/step\n",
      "WARNING:tensorflow:No training configuration found in save file, so the model was *not* compiled. Compile it manually.\n",
      "1/1 [==============================] - 0s 47ms/step\n",
      "WARNING:tensorflow:No training configuration found in save file, so the model was *not* compiled. Compile it manually.\n",
      "1/1 [==============================] - 0s 45ms/step\n",
      "WARNING:tensorflow:No training configuration found in save file, so the model was *not* compiled. Compile it manually.\n",
      "1/1 [==============================] - 0s 47ms/step\n",
      "WARNING:tensorflow:No training configuration found in save file, so the model was *not* compiled. Compile it manually.\n",
      "1/1 [==============================] - 0s 46ms/step\n",
      "WARNING:tensorflow:No training configuration found in save file, so the model was *not* compiled. Compile it manually.\n",
      "1/1 [==============================] - 0s 44ms/step\n",
      "WARNING:tensorflow:No training configuration found in save file, so the model was *not* compiled. Compile it manually.\n",
      "1/1 [==============================] - 0s 46ms/step\n",
      "WARNING:tensorflow:No training configuration found in save file, so the model was *not* compiled. Compile it manually.\n",
      "1/1 [==============================] - 0s 45ms/step\n",
      "WARNING:tensorflow:No training configuration found in save file, so the model was *not* compiled. Compile it manually.\n",
      "1/1 [==============================] - 0s 44ms/step\n",
      "WARNING:tensorflow:No training configuration found in save file, so the model was *not* compiled. Compile it manually.\n",
      "1/1 [==============================] - 0s 45ms/step\n",
      "WARNING:tensorflow:No training configuration found in save file, so the model was *not* compiled. Compile it manually.\n",
      "1/1 [==============================] - 0s 44ms/step\n",
      "WARNING:tensorflow:No training configuration found in save file, so the model was *not* compiled. Compile it manually.\n",
      "1/1 [==============================] - 0s 44ms/step\n",
      "WARNING:tensorflow:No training configuration found in save file, so the model was *not* compiled. Compile it manually.\n",
      "1/1 [==============================] - 0s 44ms/step\n",
      "WARNING:tensorflow:No training configuration found in save file, so the model was *not* compiled. Compile it manually.\n",
      "1/1 [==============================] - 0s 44ms/step\n",
      "WARNING:tensorflow:No training configuration found in save file, so the model was *not* compiled. Compile it manually.\n",
      "1/1 [==============================] - 0s 45ms/step\n",
      "WARNING:tensorflow:No training configuration found in save file, so the model was *not* compiled. Compile it manually.\n",
      "1/1 [==============================] - 0s 45ms/step\n",
      "WARNING:tensorflow:No training configuration found in save file, so the model was *not* compiled. Compile it manually.\n",
      "1/1 [==============================] - 0s 45ms/step\n",
      "WARNING:tensorflow:No training configuration found in save file, so the model was *not* compiled. Compile it manually.\n",
      "1/1 [==============================] - 0s 45ms/step\n",
      "WARNING:tensorflow:No training configuration found in save file, so the model was *not* compiled. Compile it manually.\n",
      "1/1 [==============================] - 0s 44ms/step\n",
      "WARNING:tensorflow:No training configuration found in save file, so the model was *not* compiled. Compile it manually.\n",
      "1/1 [==============================] - 0s 44ms/step\n",
      "WARNING:tensorflow:No training configuration found in save file, so the model was *not* compiled. Compile it manually.\n",
      "1/1 [==============================] - 0s 44ms/step\n",
      "WARNING:tensorflow:No training configuration found in save file, so the model was *not* compiled. Compile it manually.\n",
      "1/1 [==============================] - 0s 45ms/step\n",
      "WARNING:tensorflow:No training configuration found in save file, so the model was *not* compiled. Compile it manually.\n",
      "1/1 [==============================] - 0s 44ms/step\n",
      "WARNING:tensorflow:No training configuration found in save file, so the model was *not* compiled. Compile it manually.\n",
      "1/1 [==============================] - 0s 45ms/step\n",
      "WARNING:tensorflow:No training configuration found in save file, so the model was *not* compiled. Compile it manually.\n",
      "1/1 [==============================] - 0s 44ms/step\n"
     ]
    }
   ],
   "source": [
    "os.chdir('/home/jupy/SavedModel/autoencoder/T0_to_T0')\n",
    "#os.chdir('/home/jupy/SavedModel/autoencoder/T15_to_T15')\n",
    "mm_feature_output_0_0={}\n",
    "for n in range(0,60):#2-48\n",
    "    xar_0=XX_0[n*26:(n+1)*26,:,:]\n",
    "    xar_norm_0=np.zeros([xar_0.shape[0],xar_0.shape[1],xar_0.shape[2]])\n",
    "    for i in range(0,xar_0.shape[0]):\n",
    "        for j in range(0,xar_0.shape[1]):\n",
    "            xar_norm_0[i,j,:]=minmax_scale(xar_0[i,j,:])\n",
    "    xar_0=xar_norm_0\n",
    "    xar_0=np.expand_dims(xar_0,axis=-1)\n",
    "    mm=load_model(f'T0_to_T0_VAE{n}')\n",
    "\n",
    "    intermediate_layer_model = Model(inputs=mm.input,outputs=mm.get_layer('spatial_conv').output)\n",
    "    #intermediate_layer_model.compile(optimizer=Adam(learning_rate=0.001))\n",
    "    mm_feature_output_0_0[n]= intermediate_layer_model.predict(xar_0)\n",
    "    \n",
    "adapt_auto_feat_0_0=np.zeros([26*60,1,1217,8])\n",
    "for n in range(0,60):\n",
    "    adapt_auto_feat_0_0[n*26:(n+1)*26,:,:,:]=mm_feature_output_0_0[n]\n",
    "Adapt_feat_0_0=np.zeros([26*60,1217*8])\n",
    "for i in range(0,adapt_auto_feat_0_0.shape[0]):\n",
    "    Adapt_feat_0_0[i,:]=adapt_auto_feat_0_0[i,:,:,:].flatten()"
   ]
  },
  {
   "cell_type": "code",
   "execution_count": 12,
   "id": "904e37ab",
   "metadata": {},
   "outputs": [
    {
     "data": {
      "text/plain": [
       "(1560, 9736)"
      ]
     },
     "execution_count": 12,
     "metadata": {},
     "output_type": "execute_result"
    }
   ],
   "source": [
    "Adapt_feat_0_0.shape"
   ]
  },
  {
   "cell_type": "code",
   "execution_count": 34,
   "id": "b3eab092",
   "metadata": {},
   "outputs": [],
   "source": [
    "raw_0=np.zeros([XX_0.shape[0],(XX_0.shape[1]*XX_0.shape[2])])\n",
    "for i in range(0,1560):\n",
    "    raw_0[i,:]=XX_0[i,:,:].flatten()"
   ]
  },
  {
   "cell_type": "markdown",
   "id": "dfc35004",
   "metadata": {},
   "source": [
    "### Convex Hull\n"
   ]
  },
  {
   "cell_type": "markdown",
   "id": "9b11f9ce",
   "metadata": {},
   "source": [
    "# Genetic Algorithm"
   ]
  },
  {
   "cell_type": "raw",
   "id": "ad705dbf",
   "metadata": {
    "collapsed": true
   },
   "source": [
    "def objective(x):\n",
    "    good_q_id=np.where(np.array(hull_area)<=x[0])[0]\n",
    "    midhigh_q_id = np.where((x[0] < np.array(hull_area)) & (np.array(hull_area) <=x[1]))[0]\n",
    "    midlow_q_id = np.where((x[1] < np.array(hull_area)) & (np.array(hull_area) <= x[2]))[0]\n",
    "    bad_q_id = np.where(np.array(hull_area)>x[2])[0]\n",
    "    quality_y=np.empty([1560,])\n",
    "    \n",
    "    for i in good_q_id:\n",
    "        quality_y[np.arange(i*26,(i+1)*26)]=0\n",
    "    for j in midhigh_q_id:\n",
    "        quality_y[np.arange(j*26,(j+1)*26)]=1\n",
    "    for r in midlow_q_id:\n",
    "        quality_y[np.arange(r*26,(r+1)*26)]=1\n",
    "    for z in bad_q_id:\n",
    "        quality_y[np.arange(z*26,(z+1)*26)]=2\n",
    "\n",
    "    X_train, X_test, y_train, y_test = train_test_split(Adapt_feat_0_0, quality_y, test_size=0.2, random_state=42,stratify=quality_y\n",
    "    )\n",
    "    rf.fit(X_train, y_train) # n_estimator=200\n",
    "    y_pred = rf.predict(X_test)\n",
    "    accuracy = accuracy_score(y_test, y_pred)\n",
    "    #print(f\"Accuracy: {accuracy}\")\n",
    "    \n",
    "    return accuracy \n",
    "\n",
    "from numpy.random import randint\n",
    "from numpy.random import rand\n",
    "\n",
    "# decode bitstring to numbers\n",
    "def decode(bounds, n_bits, bitstring):\n",
    "\tdecoded = list()\n",
    "\tlargest = 2**n_bits\n",
    "\tfor i in range(len(bounds)):\n",
    "\t\t# extract the substring\n",
    "\t\tstart, end = i * n_bits, (i * n_bits)+n_bits\n",
    "\t\tsubstring = bitstring[start:end]\n",
    "\t\t# convert bitstring to a string of chars\n",
    "\t\tchars = ''.join([str(s) for s in substring])\n",
    "\t\t# convert string to integer\n",
    "\t\tinteger = int(chars, 2)\n",
    "\t\t# scale integer to desired range\n",
    "\t\tvalue = bounds[i][0] + (integer/largest) * (bounds[i][1] - bounds[i][0])\n",
    "\t\t# store\n",
    "\t\tdecoded.append(value)\n",
    "\treturn decoded\n",
    "\n",
    "# tournament selection\n",
    "def selection(pop, scores, k=3):\n",
    "\t# first random selection\n",
    "\tselection_ix = randint(len(pop))\n",
    "\tfor ix in randint(0, len(pop), k-1):\n",
    "\t\t# check if better (e.g. perform a tournament)\n",
    "\t\tif scores[ix] < scores[selection_ix]:\n",
    "\t\t\tselection_ix = ix\n",
    "\treturn pop[selection_ix]\n",
    "\n",
    "# crossover two parents to create two children\n",
    "def crossover(p1, p2, r_cross):\n",
    "\t# children are copies of parents by default\n",
    "\tc1, c2 = p1.copy(), p2.copy()\n",
    "\t# check for recombination\n",
    "\tif rand() < r_cross:\n",
    "\t\t# select crossover point that is not on the end of the string\n",
    "\t\tpt = randint(1, len(p1)-2)\n",
    "\t\t# perform crossover\n",
    "\t\tc1 = p1[:pt] + p2[pt:]\n",
    "\t\tc2 = p2[:pt] + p1[pt:]\n",
    "\treturn [c1, c2]\n",
    "\n",
    "# mutation operator\n",
    "def mutation(bitstring, r_mut):\n",
    "\tfor i in range(len(bitstring)):\n",
    "\t\t# check for a mutation\n",
    "\t\tif rand() < r_mut:\n",
    "\t\t\t# flip the bit\n",
    "\t\t\tbitstring[i] = 1 - bitstring[i]\n",
    "\n",
    "# genetic algorithm\n",
    "def genetic_algorithm(objective, bounds, n_bits, n_iter, n_pop, r_cross, r_mut):\n",
    "\t# initial population of random bitstring\n",
    "\tpop = [randint(0, 2, n_bits*len(bounds)).tolist() for _ in range(n_pop)]\n",
    "\t# keep track of best solution\n",
    "\tbest, best_eval = 0, objective(decode(bounds, n_bits, pop[0]))\n",
    "\t# enumerate generations\n",
    "\tfor gen in range(n_iter):\n",
    "\t\t# decode population\n",
    "\t\tdecoded = [decode(bounds, n_bits, p) for p in pop]\n",
    "\t\t# evaluate all candidates in the population\n",
    "\t\tscores = [objective(d) for d in decoded]\n",
    "\t\t# check for new best solution\n",
    "\t\tfor i in range(n_pop):\n",
    "\t\t\tif scores[i] < best_eval:\n",
    "\t\t\t\tbest, best_eval = pop[i], scores[i]\n",
    "\t\t\t\tprint(\">%d, new best f(%s) = %f\" % (gen,  decoded[i], scores[i]))\n",
    "\t\t# select parents\n",
    "\t\tselected = [selection(pop, scores) for _ in range(n_pop)]\n",
    "\t\t# create the next generation\n",
    "\t\tchildren = list()\n",
    "\t\tfor i in range(0, n_pop, 2):\n",
    "\t\t\t# get selected parents in pairs\n",
    "\t\t\tp1, p2 = selected[i], selected[i+1]\n",
    "\t\t\t# crossover and mutation\n",
    "\t\t\tfor c in crossover(p1, p2, r_cross):\n",
    "\t\t\t\t# mutation\n",
    "\t\t\t\tmutation(c, r_mut)\n",
    "\t\t\t\t# store for next generation\n",
    "\t\t\t\tchildren.append(c)\n",
    "\t\t# replace population\n",
    "\t\tpop = children\n",
    "\treturn [best, best_eval]\n",
    "\n",
    "# define range for input\n",
    "bounds = [[0, 150], [150, 250], [250, 350]]\n",
    "# define the total iterations\n",
    "n_iter = 100\n",
    "# bits per variable\n",
    "n_bits = 16\n",
    "# define the population size\n",
    "n_pop = 100\n",
    "# crossover rate\n",
    "r_cross = 0.9\n",
    "# mutation rate\n",
    "r_mut = 1.0 / (float(n_bits) * len(bounds))\n",
    "# perform the genetic algorithm search\n",
    "best, score = genetic_algorithm(objective, bounds, n_bits, n_iter, n_pop, r_cross, r_mut)\n",
    "print('Done!')\n",
    "decoded = decode(bounds, n_bits, best)\n",
    "print('f(%s) = %f' % (decoded, score))"
   ]
  },
  {
   "cell_type": "markdown",
   "id": "886e08b6",
   "metadata": {},
   "source": [
    "0-125: good qulaity\n",
    "126-220:middle quality\n",
    "220-:bad quality"
   ]
  },
  {
   "cell_type": "code",
   "execution_count": 200,
   "id": "1e21f95e",
   "metadata": {},
   "outputs": [
    {
     "data": {
      "text/plain": [
       "(1560,)"
      ]
     },
     "execution_count": 200,
     "metadata": {},
     "output_type": "execute_result"
    }
   ],
   "source": [
    "subj_y=[]\n",
    "for i in range(0,int(Adapt_feat_0_0.shape[0]/26)):\n",
    "     subj_y.append([i]*26)\n",
    "subj_y=np.array(subj_y).flatten()\n",
    "subj_y.shape"
   ]
  },
  {
   "cell_type": "code",
   "execution_count": 297,
   "id": "f43fc114",
   "metadata": {},
   "outputs": [
    {
     "name": "stdout",
     "output_type": "stream",
     "text": [
      "Accuracy: 0.7307692307692307\n"
     ]
    }
   ],
   "source": [
    "from sklearn.ensemble import RandomForestClassifier\n",
    "from sklearn.model_selection import train_test_split\n",
    "from sklearn.metrics import accuracy_score\n",
    "\n",
    "\n",
    "n_estimators = 200\n",
    "rf = RandomForestClassifier(n_estimators=n_estimators, bootstrap=True)\n",
    "X_train, X_test, y_train, y_test = train_test_split(Adapt_feat_0_0, quality_y, test_size=0.2, random_state=42,stratify=quality_y\n",
    ")\n",
    "rf.fit(X_train, y_train)\n",
    "y_pred = rf.predict(X_test)\n",
    "accuracy = accuracy_score(y_test, y_pred)\n",
    "print(f\"Accuracy: {accuracy}\")\n",
    "\n",
    "rf.feature_importances_\n",
    "feat_id=rf.feature_importances_.argsort()[-500:][::-1]"
   ]
  },
  {
   "cell_type": "code",
   "execution_count": 298,
   "id": "dceb1ef7",
   "metadata": {},
   "outputs": [],
   "source": []
  },
  {
   "cell_type": "markdown",
   "id": "581b0f40",
   "metadata": {},
   "source": [
    "# clustering"
   ]
  },
  {
   "cell_type": "code",
   "execution_count": 14,
   "id": "4817ad99",
   "metadata": {},
   "outputs": [
    {
     "name": "stderr",
     "output_type": "stream",
     "text": [
      "/home/jupy/.conda/envs/venv_py39/lib/python3.9/site-packages/sklearn/manifold/_t_sne.py:800: FutureWarning: The default initialization in TSNE will change from 'random' to 'pca' in 1.2.\n",
      "  warnings.warn(\n",
      "/home/jupy/.conda/envs/venv_py39/lib/python3.9/site-packages/sklearn/manifold/_t_sne.py:810: FutureWarning: The default learning rate in TSNE will change from 200.0 to 'auto' in 1.2.\n",
      "  warnings.warn(\n"
     ]
    }
   ],
   "source": [
    "from sklearn.manifold import TSNE\n",
    "tsne = TSNE(n_components=2) \n",
    "ardata=Adapt_feat_0_0\n",
    "tsardata=tsne.fit_transform(ardata)"
   ]
  },
  {
   "cell_type": "code",
   "execution_count": 23,
   "id": "6dc39831",
   "metadata": {},
   "outputs": [
    {
     "data": {
      "image/png": "[encoded data removed]",
      "text/plain": [
       "<Figure size 640x480 with 1 Axes>"
      ]
     },
     "metadata": {},
     "output_type": "display_data"
    }
   ],
   "source": [
    "inertia = []\n",
    "for k in range(1, 20):  # You can adjust the range of k as needed\n",
    "    kmeans = KMeans(n_clusters=k)\n",
    "    kmeans.fit(tsardata)\n",
    "    inertia.append(kmeans.inertia_)\n",
    "\n",
    "# Plot the elbow curve\n",
    "plt.plot(range(1, 20), inertia, marker='o')\n",
    "plt.xlabel('Number of Clusters (k)')\n",
    "plt.ylabel('Inertia')\n",
    "plt.xticks(range(1, 20))\n",
    "#plt.title('Elbow for Optimal k')\n",
    "plt.show()"
   ]
  },
  {
   "cell_type": "code",
   "execution_count": 17,
   "id": "2819007a",
   "metadata": {},
   "outputs": [],
   "source": [
    "from sklearn.cluster import KMeans\n",
    "n_clusters = 5 # Number of clusters\n",
    "kmeans = KMeans(n_clusters=n_clusters, random_state=42)\n",
    "kmeans.fit(ardata)\n",
    "cluster_assignments = kmeans.labels_"
   ]
  },
  {
   "cell_type": "code",
   "execution_count": 18,
   "id": "c243590f",
   "metadata": {},
   "outputs": [],
   "source": [
    "cluster_assignments.shape\n",
    "cluster_purity=[]\n",
    "for i in range(0,60):\n",
    "    cluster_count=(np.unique(cluster_assignments[i*26:(i+1)*26], return_counts=True)[0].shape[0])\n",
    "    #print(np.unique(cluster_assignments[i*26:(i+1)*26], return_counts=True)[0].shape[0])\n",
    "    cluster_purity.append(cluster_count)"
   ]
  },
  {
   "cell_type": "code",
   "execution_count": 33,
   "id": "a4d531a3",
   "metadata": {},
   "outputs": [
    {
     "data": {
      "image/png": "[encoded data removed]",
      "text/plain": [
       "<Figure size 640x480 with 1 Axes>"
      ]
     },
     "metadata": {},
     "output_type": "display_data"
    }
   ],
   "source": [
    "counts, bins, _ = plt.hist(cluster_purity, bins=9)\n",
    "for count, x in zip(counts, bins):\n",
    "    if count > 0:  # Remove 0 count\n",
    "        plt.text(x + (bins[1] - bins[0]) / 2, count, str(int(count)), ha='center', va='bottom', fontsize=10, color='black')\n",
    "\n",
    "plt.xlabel('Number of Clusters')\n",
    "plt.ylabel('Number of Subjects')\n",
    "plt.xticks(range(1, 6))  # Set the x-axis to start from 1 to 9\n",
    "plt.yticks(range(0, 23, 5))  # Set the y-axis range from 0 to 22 with intervals of 5\n",
    "\n",
    "plt.show()\n"
   ]
  },
  {
   "cell_type": "code",
   "execution_count": 35,
   "id": "d537dbe1",
   "metadata": {},
   "outputs": [
    {
     "name": "stdout",
     "output_type": "stream",
     "text": [
      "good subj [ 0  1  2  3  4  5  6  7  8  9 10 11 12 13 14 15 16 17 18 19 20 21 22 23\n",
      " 24 25 26 34]\n",
      "midhigh subj [27 28 30 47 53 54 56 57 58 59]\n",
      "midlow subj []\n",
      "bad subj [29 31 32 33 35 36 37 38 39 40 41 42 43 44 45 46 48 49 50 51 52 55]\n"
     ]
    }
   ],
   "source": [
    "\n",
    "good_q_id=np.where(np.array(cluster_purity)<=2)[0]\n",
    "midhigh_q_id = np.where((2 < np.array(cluster_purity)) & (np.array(cluster_purity) <=3))[0]\n",
    "midlow_q_id = np.where((3< np.array(cluster_purity)) & (np.array(cluster_purity) <= 3.5))[0]\n",
    "bad_q_id = np.where(np.array(cluster_purity)>3.5)[0]\n",
    "\n",
    "print('good subj',good_q_id)\n",
    "print('midhigh subj',midhigh_q_id)\n",
    "print('midlow subj',midlow_q_id)\n",
    "print('bad subj',bad_q_id)\n",
    "\n",
    "quality_y=np.empty([1560,])\n",
    "#quality_ar=np.zeros[1560,9736]\n",
    "for i in good_q_id:\n",
    "    #print(np.arange(i*26,(i+1)*26))\n",
    "    quality_y[np.arange(i*26,(i+1)*26)]=0\n",
    "    \n",
    "for j in midhigh_q_id:\n",
    "    quality_y[np.arange(j*26,(j+1)*26)]=1\n",
    "    \n",
    "for r in midlow_q_id:\n",
    "    quality_y[np.arange(r*26,(r+1)*26)]=1\n",
    "    \n",
    "for z in bad_q_id:\n",
    "    quality_y[np.arange(z*26,(z+1)*26)]=2"
   ]
  },
  {
   "cell_type": "code",
   "execution_count": 36,
   "id": "7d081153",
   "metadata": {},
   "outputs": [
    {
     "name": "stdout",
     "output_type": "stream",
     "text": [
      "Accuracy: 0.8397435897435898\n"
     ]
    }
   ],
   "source": [
    "from sklearn.ensemble import RandomForestClassifier\n",
    "from sklearn.model_selection import train_test_split\n",
    "from sklearn.metrics import accuracy_score\n",
    "\n",
    "\n",
    "# Number of trees in the Random Forest\n",
    "n_estimators = 200\n",
    "\n",
    "# Create a Random Forest classifier with bootstrapping\n",
    "rf = RandomForestClassifier(n_estimators=n_estimators, bootstrap=True)\n",
    "\n",
    "# Split your data into training and testing sets\n",
    "X_train, X_test, y_train, y_test = train_test_split(Adapt_feat_0_0, quality_y, test_size=0.2, random_state=42,stratify=quality_y\n",
    ")#, \n",
    "# Train the Random Forest model\n",
    "rf.fit(X_train, y_train)\n",
    "\n",
    "# Make predictions on the test set\n",
    "y_pred = rf.predict(X_test)\n",
    "\n",
    "# Evaluate the model\n",
    "accuracy = accuracy_score(y_test, y_pred)\n",
    "print(f\"Accuracy: {accuracy}\")\n"
   ]
  },
  {
   "cell_type": "code",
   "execution_count": 37,
   "id": "4bde2982",
   "metadata": {},
   "outputs": [],
   "source": [
    "rf.feature_importances_\n",
    "feat_id=rf.feature_importances_.argsort()[-500:][::-1]"
   ]
  },
  {
   "cell_type": "code",
   "execution_count": null,
   "id": "35da7a61",
   "metadata": {},
   "outputs": [],
   "source": []
  },
  {
   "cell_type": "markdown",
   "id": "72784463",
   "metadata": {},
   "source": [
    "# train/test split"
   ]
  },
  {
   "cell_type": "markdown",
   "id": "06c14bba",
   "metadata": {},
   "source": [
    "Insert a token as subeject ID\n"
   ]
  },
  {
   "cell_type": "raw",
   "id": "2cd45a0b",
   "metadata": {},
   "source": [
    "column_to_insert = subj_y\n",
    "# Number of columns in between each insertion\n",
    "insert_interval = 10\n",
    "# Initialize the modified array\n",
    "modified_array = np.copy(Adapt_feat_0_0)\n",
    "# Iterate through every 10 columns\n",
    "for i in range(0, modified_array.shape[1], insert_interval):\n",
    "    # Insert the column at the current position\n",
    "    modified_array = np.insert(modified_array, i, column_to_insert, axis=1)"
   ]
  },
  {
   "cell_type": "code",
   "execution_count": 398,
   "id": "5b2362dc",
   "metadata": {},
   "outputs": [],
   "source": [
    "s_range=range(0,10)"
   ]
  },
  {
   "cell_type": "code",
   "execution_count": 417,
   "id": "e7a943cf",
   "metadata": {
    "scrolled": true
   },
   "outputs": [
    {
     "name": "stdout",
     "output_type": "stream",
     "text": [
      "set 0 [30 31 32  0  1  2]\n",
      "set 0 [33, 34, 35, 3, 4, 5, 36, 37, 38, 6, 7, 8, 39, 40, 41, 9, 10, 11, 42, 43, 44, 12, 13, 14, 45, 46, 47, 15, 16, 17, 48, 49, 50, 18, 19, 20, 51, 52, 53, 21, 22, 23, 54, 55, 56, 24, 25, 26, 57, 58, 59, 27, 28, 29]\n",
      "----------------------------\n",
      "set 1 [33 34 35  3  4  5]\n",
      "set 1 [30, 31, 32, 0, 1, 2, 36, 37, 38, 6, 7, 8, 39, 40, 41, 9, 10, 11, 42, 43, 44, 12, 13, 14, 45, 46, 47, 15, 16, 17, 48, 49, 50, 18, 19, 20, 51, 52, 53, 21, 22, 23, 54, 55, 56, 24, 25, 26, 57, 58, 59, 27, 28, 29]\n",
      "----------------------------\n",
      "set 2 [36 37 38  6  7  8]\n",
      "set 2 [30, 31, 32, 0, 1, 2, 33, 34, 35, 3, 4, 5, 39, 40, 41, 9, 10, 11, 42, 43, 44, 12, 13, 14, 45, 46, 47, 15, 16, 17, 48, 49, 50, 18, 19, 20, 51, 52, 53, 21, 22, 23, 54, 55, 56, 24, 25, 26, 57, 58, 59, 27, 28, 29]\n",
      "----------------------------\n",
      "set 3 [39 40 41  9 10 11]\n",
      "set 3 [30, 31, 32, 0, 1, 2, 33, 34, 35, 3, 4, 5, 36, 37, 38, 6, 7, 8, 42, 43, 44, 12, 13, 14, 45, 46, 47, 15, 16, 17, 48, 49, 50, 18, 19, 20, 51, 52, 53, 21, 22, 23, 54, 55, 56, 24, 25, 26, 57, 58, 59, 27, 28, 29]\n",
      "----------------------------\n",
      "set 4 [42 43 44 12 13 14]\n",
      "set 4 [30, 31, 32, 0, 1, 2, 33, 34, 35, 3, 4, 5, 36, 37, 38, 6, 7, 8, 39, 40, 41, 9, 10, 11, 45, 46, 47, 15, 16, 17, 48, 49, 50, 18, 19, 20, 51, 52, 53, 21, 22, 23, 54, 55, 56, 24, 25, 26, 57, 58, 59, 27, 28, 29]\n",
      "----------------------------\n",
      "set 5 [45 46 47 15 16 17]\n",
      "set 5 [30, 31, 32, 0, 1, 2, 33, 34, 35, 3, 4, 5, 36, 37, 38, 6, 7, 8, 39, 40, 41, 9, 10, 11, 42, 43, 44, 12, 13, 14, 48, 49, 50, 18, 19, 20, 51, 52, 53, 21, 22, 23, 54, 55, 56, 24, 25, 26, 57, 58, 59, 27, 28, 29]\n",
      "----------------------------\n",
      "set 6 [48 49 50 18 19 20]\n",
      "set 6 [30, 31, 32, 0, 1, 2, 33, 34, 35, 3, 4, 5, 36, 37, 38, 6, 7, 8, 39, 40, 41, 9, 10, 11, 42, 43, 44, 12, 13, 14, 45, 46, 47, 15, 16, 17, 51, 52, 53, 21, 22, 23, 54, 55, 56, 24, 25, 26, 57, 58, 59, 27, 28, 29]\n",
      "----------------------------\n",
      "set 7 [51 52 53 21 22 23]\n",
      "set 7 [30, 31, 32, 0, 1, 2, 33, 34, 35, 3, 4, 5, 36, 37, 38, 6, 7, 8, 39, 40, 41, 9, 10, 11, 42, 43, 44, 12, 13, 14, 45, 46, 47, 15, 16, 17, 48, 49, 50, 18, 19, 20, 54, 55, 56, 24, 25, 26, 57, 58, 59, 27, 28, 29]\n",
      "----------------------------\n",
      "set 8 [54 55 56 24 25 26]\n",
      "set 8 [30, 31, 32, 0, 1, 2, 33, 34, 35, 3, 4, 5, 36, 37, 38, 6, 7, 8, 39, 40, 41, 9, 10, 11, 42, 43, 44, 12, 13, 14, 45, 46, 47, 15, 16, 17, 48, 49, 50, 18, 19, 20, 51, 52, 53, 21, 22, 23, 57, 58, 59, 27, 28, 29]\n",
      "----------------------------\n",
      "set 9 [57 58 59 27 28 29]\n",
      "set 9 [30, 31, 32, 0, 1, 2, 33, 34, 35, 3, 4, 5, 36, 37, 38, 6, 7, 8, 39, 40, 41, 9, 10, 11, 42, 43, 44, 12, 13, 14, 45, 46, 47, 15, 16, 17, 48, 49, 50, 18, 19, 20, 51, 52, 53, 21, 22, 23, 54, 55, 56, 24, 25, 26]\n",
      "----------------------------\n",
      "set 0\n",
      "test_id [30 31 32  0  1  2]\n",
      "tv_id [33, 34, 35, 3, 4, 5, 36, 37, 38, 6, 7, 8, 39, 40, 41, 9, 10, 11, 42, 43, 44, 12, 13, 14, 45, 46, 47, 15, 16, 17, 48, 49, 50, 18, 19, 20, 51, 52, 53, 21, 22, 23, 54, 55, 56, 24, 25, 26, 57, 58, 59, 27, 28, 29]\n",
      "set 1\n",
      "test_id [33 34 35  3  4  5]\n",
      "tv_id [30, 31, 32, 0, 1, 2, 36, 37, 38, 6, 7, 8, 39, 40, 41, 9, 10, 11, 42, 43, 44, 12, 13, 14, 45, 46, 47, 15, 16, 17, 48, 49, 50, 18, 19, 20, 51, 52, 53, 21, 22, 23, 54, 55, 56, 24, 25, 26, 57, 58, 59, 27, 28, 29]\n",
      "set 2\n",
      "test_id [36 37 38  6  7  8]\n",
      "tv_id [30, 31, 32, 0, 1, 2, 33, 34, 35, 3, 4, 5, 39, 40, 41, 9, 10, 11, 42, 43, 44, 12, 13, 14, 45, 46, 47, 15, 16, 17, 48, 49, 50, 18, 19, 20, 51, 52, 53, 21, 22, 23, 54, 55, 56, 24, 25, 26, 57, 58, 59, 27, 28, 29]\n",
      "set 3\n",
      "test_id [39 40 41  9 10 11]\n",
      "tv_id [30, 31, 32, 0, 1, 2, 33, 34, 35, 3, 4, 5, 36, 37, 38, 6, 7, 8, 42, 43, 44, 12, 13, 14, 45, 46, 47, 15, 16, 17, 48, 49, 50, 18, 19, 20, 51, 52, 53, 21, 22, 23, 54, 55, 56, 24, 25, 26, 57, 58, 59, 27, 28, 29]\n",
      "set 4\n",
      "test_id [42 43 44 12 13 14]\n",
      "tv_id [30, 31, 32, 0, 1, 2, 33, 34, 35, 3, 4, 5, 36, 37, 38, 6, 7, 8, 39, 40, 41, 9, 10, 11, 45, 46, 47, 15, 16, 17, 48, 49, 50, 18, 19, 20, 51, 52, 53, 21, 22, 23, 54, 55, 56, 24, 25, 26, 57, 58, 59, 27, 28, 29]\n",
      "set 5\n",
      "test_id [45 46 47 15 16 17]\n",
      "tv_id [30, 31, 32, 0, 1, 2, 33, 34, 35, 3, 4, 5, 36, 37, 38, 6, 7, 8, 39, 40, 41, 9, 10, 11, 42, 43, 44, 12, 13, 14, 48, 49, 50, 18, 19, 20, 51, 52, 53, 21, 22, 23, 54, 55, 56, 24, 25, 26, 57, 58, 59, 27, 28, 29]\n",
      "set 6\n",
      "test_id [48 49 50 18 19 20]\n",
      "tv_id [30, 31, 32, 0, 1, 2, 33, 34, 35, 3, 4, 5, 36, 37, 38, 6, 7, 8, 39, 40, 41, 9, 10, 11, 42, 43, 44, 12, 13, 14, 45, 46, 47, 15, 16, 17, 51, 52, 53, 21, 22, 23, 54, 55, 56, 24, 25, 26, 57, 58, 59, 27, 28, 29]\n",
      "set 7\n",
      "test_id [51 52 53 21 22 23]\n",
      "tv_id [30, 31, 32, 0, 1, 2, 33, 34, 35, 3, 4, 5, 36, 37, 38, 6, 7, 8, 39, 40, 41, 9, 10, 11, 42, 43, 44, 12, 13, 14, 45, 46, 47, 15, 16, 17, 48, 49, 50, 18, 19, 20, 54, 55, 56, 24, 25, 26, 57, 58, 59, 27, 28, 29]\n",
      "set 8\n",
      "test_id [54 55 56 24 25 26]\n",
      "tv_id [30, 31, 32, 0, 1, 2, 33, 34, 35, 3, 4, 5, 36, 37, 38, 6, 7, 8, 39, 40, 41, 9, 10, 11, 42, 43, 44, 12, 13, 14, 45, 46, 47, 15, 16, 17, 48, 49, 50, 18, 19, 20, 51, 52, 53, 21, 22, 23, 57, 58, 59, 27, 28, 29]\n",
      "set 9\n",
      "test_id [57 58 59 27 28 29]\n",
      "tv_id [30, 31, 32, 0, 1, 2, 33, 34, 35, 3, 4, 5, 36, 37, 38, 6, 7, 8, 39, 40, 41, 9, 10, 11, 42, 43, 44, 12, 13, 14, 45, 46, 47, 15, 16, 17, 48, 49, 50, 18, 19, 20, 51, 52, 53, 21, 22, 23, 54, 55, 56, 24, 25, 26]\n"
     ]
    }
   ],
   "source": [
    "data_ind=[]\n",
    "for n in range(0,10):\n",
    "    data_ind.append(np.array([30,31,32,0,1,2])+n*3)\n",
    "\n",
    "Xtest_id={}\n",
    "Xtv_id={}\n",
    "\n",
    "\n",
    "for s in s_range:    \n",
    "    Xtest_id[s]=data_ind[s]\n",
    "    #Xtv_id[s]=flatten(data_ind[0:s]+data_ind[(s+1):])\n",
    "    Xtv_id[s]=(np.array(data_ind[0:s]).flatten().tolist())+(np.array(data_ind[(s+1):]).flatten().tolist())\n",
    "    print('set',s,Xtest_id[s])\n",
    "    print('set',s,Xtv_id[s])\n",
    "    print('----------------------------')\n",
    "    \n",
    "Xdata= #raw_0#Adapt_feat_0_0#[:,feat_id]\n",
    "Ydata=np.array(Y2)#quality_y#\n",
    "Xtv={}\n",
    "Ytv={}\n",
    "Xtest={}\n",
    "Ytest={}\n",
    "for s in s_range:\n",
    "    print('set',s)\n",
    "    Xtest[s]=np.zeros([Xdata.shape[0],Xdata.shape[1]])\n",
    "    Ytest[s]=np.zeros([Xdata.shape[0],])\n",
    "    print('test_id',Xtest_id[s])\n",
    "    for test_id in Xtest_id[s]:\n",
    "            Xtest[s]=np.vstack([Xtest[s],Xdata[test_id*number_of_epochs:(test_id+1)*number_of_epochs,:]])\n",
    "            Ytest[s]=np.hstack([Ytest[s],Ydata[test_id*number_of_epochs:(test_id+1)*number_of_epochs,]])\n",
    "          \n",
    "    Xtest[s]=Xtest[s][Xdata.shape[0]:,:] \n",
    "    Ytest[s]=Ytest[s][Xdata.shape[0]:,] \n",
    "    \n",
    "    Xtv[s]=np.zeros([Xdata.shape[0],Xdata.shape[1]])\n",
    "    Ytv[s]=np.zeros([Xdata.shape[0],])\n",
    "    print('tv_id',Xtv_id[s])\n",
    "    for tv_id in Xtv_id[s]:\n",
    "            Xtv[s]=np.vstack([Xtv[s],Xdata[tv_id*number_of_epochs:(tv_id+1)*number_of_epochs,:]])\n",
    "            Ytv[s]=np.hstack([Ytv[s],Ydata[tv_id*number_of_epochs:(tv_id+1)*number_of_epochs,]])\n",
    "            \n",
    "    Xtv[s]=Xtv[s][Xdata.shape[0]:,:] \n",
    "    Ytv[s]=Ytv[s][Xdata.shape[0]:,] "
   ]
  },
  {
   "cell_type": "code",
   "execution_count": 418,
   "id": "81435c70",
   "metadata": {},
   "outputs": [
    {
     "name": "stdout",
     "output_type": "stream",
     "text": [
      "(1404, 24320) (1404,)\n"
     ]
    }
   ],
   "source": [
    "print(Xtv[s].shape, Ytv[s].shape)"
   ]
  },
  {
   "cell_type": "code",
   "execution_count": 419,
   "id": "3f63ac7b",
   "metadata": {},
   "outputs": [
    {
     "name": "stdout",
     "output_type": "stream",
     "text": [
      "(1404, 24320)\n",
      "(1404,)\n",
      "(1404, 24320)\n",
      "(1404,)\n",
      "(1404, 24320)\n",
      "(1404,)\n",
      "(1404, 24320)\n",
      "(1404,)\n",
      "(1404, 24320)\n",
      "(1404,)\n",
      "(1404, 24320)\n",
      "(1404,)\n",
      "(1404, 24320)\n",
      "(1404,)\n",
      "(1404, 24320)\n",
      "(1404,)\n",
      "(1404, 24320)\n",
      "(1404,)\n",
      "(1404, 24320)\n",
      "(1404,)\n"
     ]
    }
   ],
   "source": [
    "all_id_long={}\n",
    "X_all_shuffled={}\n",
    "Y_all_shuffled={}\n",
    "Y_all_shuffled_cat={}\n",
    "for s in s_range:\n",
    "    np.random.seed(2)\n",
    "    all_id_long[s]=np.arange(0,Xtv[s].shape[0])\n",
    "    np.random.shuffle(all_id_long[s])\n",
    "    \n",
    "    X_all_shuffled[s]=np.zeros([ Xtv[s].shape[0], Xtv[s].shape[1]])\n",
    "    Y_all_shuffled[s]=np.zeros([ Xtv[s].shape[0]])\n",
    "    for n in range(0,all_id_long[s].shape[0]):\n",
    "        X_all_shuffled[s][n,:]=Xtv[s][all_id_long[s][n],:]\n",
    "        #print(n,all_id_long[s][n])\n",
    "        Y_all_shuffled[s][n]=Ytv[s][all_id_long[s][n]]\n",
    "    print(X_all_shuffled[s].shape)\n",
    "    print(Y_all_shuffled[s].shape)"
   ]
  },
  {
   "cell_type": "markdown",
   "id": "5bc84101",
   "metadata": {},
   "source": [
    "accuracy of subject filtered feautres vae"
   ]
  },
  {
   "cell_type": "code",
   "execution_count": 412,
   "id": "f47cc144",
   "metadata": {},
   "outputs": [
    {
     "name": "stdout",
     "output_type": "stream",
     "text": [
      "0.5897435897435898\n",
      "0.7884615384615384\n",
      "0.8397435897435898\n",
      "0.9615384615384616\n",
      "0.9935897435897436\n",
      "0.9935897435897436\n",
      "0.9935897435897436\n",
      "1.0\n",
      "0.9743589743589743\n",
      "0.9615384615384616\n",
      "avg 0.9096153846153847\n"
     ]
    }
   ],
   "source": [
    "scores=[]\n",
    "for s in s_range:\n",
    "    knn.fit(X_all_shuffled[s],Y_all_shuffled[s])\n",
    "    print(accuracy_score(knn.predict(Xtest[s]),Ytest[s]))\n",
    "    scores.append(accuracy_score(knn.predict(Xtest[s]),Ytest[s]))\n",
    "print('avg',sum(scores)/len(scores))"
   ]
  },
  {
   "cell_type": "markdown",
   "id": "51a50667",
   "metadata": {},
   "source": [
    "accuracy of vae as features"
   ]
  },
  {
   "cell_type": "code",
   "execution_count": 416,
   "id": "854acaa9",
   "metadata": {},
   "outputs": [
    {
     "name": "stdout",
     "output_type": "stream",
     "text": [
      "0.5256410256410257\n",
      "0.5384615384615384\n",
      "0.5064102564102564\n",
      "0.6153846153846154\n",
      "0.5512820512820513\n",
      "0.7243589743589743\n",
      "0.9102564102564102\n",
      "0.8846153846153846\n",
      "0.8141025641025641\n",
      "0.8782051282051282\n",
      "avg 0.6948717948717948\n"
     ]
    }
   ],
   "source": [
    "scores=[]\n",
    "for s in s_range:\n",
    "    knn.fit(X_all_shuffled[s],Y_all_shuffled[s])\n",
    "    print(accuracy_score(knn.predict(Xtest[s]),Ytest[s]))\n",
    "    scores.append(accuracy_score(knn.predict(Xtest[s]),Ytest[s]))\n",
    "print('avg',sum(scores)/len(scores))"
   ]
  },
  {
   "cell_type": "markdown",
   "id": "e786a506",
   "metadata": {},
   "source": [
    "accuracy of raw eeg as features"
   ]
  },
  {
   "cell_type": "code",
   "execution_count": 420,
   "id": "32197e29",
   "metadata": {},
   "outputs": [
    {
     "name": "stdout",
     "output_type": "stream",
     "text": [
      "0.46794871794871795\n",
      "0.5512820512820513\n",
      "0.5705128205128205\n",
      "0.47435897435897434\n",
      "0.532051282051282\n",
      "0.46794871794871795\n",
      "0.5384615384615384\n",
      "0.5448717948717948\n",
      "0.5256410256410257\n",
      "0.5\n",
      "avg 0.5173076923076922\n"
     ]
    }
   ],
   "source": [
    "scores=[]\n",
    "for s in s_range:\n",
    "    knn.fit(X_all_shuffled[s],Y_all_shuffled[s])\n",
    "    print(accuracy_score(knn.predict(Xtest[s]),Ytest[s]))\n",
    "    scores.append(accuracy_score(knn.predict(Xtest[s]),Ytest[s]))\n",
    "print('avg',sum(scores)/len(scores))"
   ]
  },
  {
   "cell_type": "markdown",
   "id": "926de7ed",
   "metadata": {},
   "source": [
    "# 1D CNN"
   ]
  },
  {
   "cell_type": "code",
   "execution_count": 313,
   "id": "8490c3cc",
   "metadata": {},
   "outputs": [],
   "source": [
    "def OneD_EEGNet(nb_classes=2,dropoutRate = 0.25,norm_rate = 0.25, dropoutType = 'Dropout'):\n",
    "\n",
    "        input1   = Input(shape = (9736, 1))\n",
    "\n",
    "        ##################################################################\n",
    "        block1       = Conv1D(8, (64))(input1)\n",
    "        block1       = BatchNormalization()(block1)\n",
    "        block1       = Activation('relu')(block1)\n",
    "\n",
    "        block1       = Conv1D(16, (32))(block1)\n",
    "        block1       = BatchNormalization()(block1)\n",
    "        block1       = Activation('relu')(block1)\n",
    "\n",
    "        block1       = AveragePooling1D((4))(block1)\n",
    "        block1       = Dropout(dropoutRate)(block1)\n",
    "\n",
    "        block2       = Conv1D(32, (16))(block1)\n",
    "        block2       = BatchNormalization()(block2)\n",
    "        block2       = Activation('relu')(block2)\n",
    "\n",
    "        block2       = AveragePooling1D((8))(block2)\n",
    "        #block2       = tf.keras.layers.GlobalAveragePooling2D()(block2)\n",
    "        block2       = Dropout(dropoutRate)(block2)\n",
    "\n",
    "        flatten      = Flatten(name = 'flatten')(block2)\n",
    "        initializer = initializer = tf.keras.initializers.Identity()\n",
    "        dense        = Dense(nb_classes, name = 'dense', \n",
    "                             kernel_constraint = max_norm(norm_rate),kernel_initializer=initializer)(flatten)\n",
    "        softmax      = Activation('softmax', name = 'softmax')(dense)\n",
    "\n",
    "        return Model(inputs=input1, outputs=softmax)   "
   ]
  },
  {
   "cell_type": "code",
   "execution_count": null,
   "id": "780b5630",
   "metadata": {
    "scrolled": true
   },
   "outputs": [],
   "source": []
  },
  {
   "cell_type": "code",
   "execution_count": 314,
   "id": "7f0fbd64",
   "metadata": {
    "scrolled": true
   },
   "outputs": [
    {
     "name": "stdout",
     "output_type": "stream",
     "text": [
      "Epoch 1/100\n",
      "12/12 [==============================] - 12s 891ms/step - loss: 0.2187 - accuracy: 0.8744 - val_loss: 11.0239 - val_accuracy: 0.4413\n",
      "Epoch 2/100\n",
      "12/12 [==============================] - 11s 884ms/step - loss: 0.0501 - accuracy: 0.9804 - val_loss: 12.0168 - val_accuracy: 0.4520\n",
      "Epoch 3/100\n",
      "12/12 [==============================] - 11s 884ms/step - loss: 0.0198 - accuracy: 0.9920 - val_loss: 7.5713 - val_accuracy: 0.5089\n",
      "Epoch 4/100\n",
      "12/12 [==============================] - 11s 878ms/step - loss: 0.0161 - accuracy: 0.9947 - val_loss: 4.1291 - val_accuracy: 0.5907\n",
      "Epoch 5/100\n",
      "12/12 [==============================] - 11s 882ms/step - loss: 0.0314 - accuracy: 0.9902 - val_loss: 3.5077 - val_accuracy: 0.5872\n",
      "Epoch 6/100\n",
      "12/12 [==============================] - 11s 887ms/step - loss: 0.0243 - accuracy: 0.9920 - val_loss: 2.5231 - val_accuracy: 0.6370\n",
      "Epoch 7/100\n",
      "12/12 [==============================] - 11s 885ms/step - loss: 0.0112 - accuracy: 0.9973 - val_loss: 1.0738 - val_accuracy: 0.7829\n",
      "Epoch 8/100\n",
      "12/12 [==============================] - 11s 881ms/step - loss: 0.0146 - accuracy: 0.9955 - val_loss: 0.0876 - val_accuracy: 0.9609\n",
      "Epoch 9/100\n",
      "12/12 [==============================] - 11s 892ms/step - loss: 0.0099 - accuracy: 0.9973 - val_loss: 0.3965 - val_accuracy: 0.8790\n",
      "Epoch 10/100\n",
      "12/12 [==============================] - 11s 885ms/step - loss: 0.0172 - accuracy: 0.9938 - val_loss: 0.2898 - val_accuracy: 0.9039\n",
      "Epoch 11/100\n",
      "12/12 [==============================] - 11s 883ms/step - loss: 0.0094 - accuracy: 0.9964 - val_loss: 0.0866 - val_accuracy: 0.9573\n",
      "Epoch 12/100\n",
      "12/12 [==============================] - 11s 888ms/step - loss: 0.0045 - accuracy: 1.0000 - val_loss: 0.0815 - val_accuracy: 0.9573\n",
      "Epoch 13/100\n",
      "12/12 [==============================] - 11s 878ms/step - loss: 0.0044 - accuracy: 0.9991 - val_loss: 0.0470 - val_accuracy: 0.9822\n",
      "Epoch 14/100\n",
      "12/12 [==============================] - 11s 890ms/step - loss: 0.0033 - accuracy: 0.9991 - val_loss: 0.0062 - val_accuracy: 1.0000\n",
      "Epoch 15/100\n",
      "12/12 [==============================] - 11s 882ms/step - loss: 0.0037 - accuracy: 0.9982 - val_loss: 0.0191 - val_accuracy: 0.9964\n",
      "Epoch 16/100\n",
      "12/12 [==============================] - 11s 881ms/step - loss: 0.0027 - accuracy: 1.0000 - val_loss: 0.0080 - val_accuracy: 1.0000\n",
      "Epoch 17/100\n",
      "12/12 [==============================] - 11s 884ms/step - loss: 0.0025 - accuracy: 1.0000 - val_loss: 0.0065 - val_accuracy: 1.0000\n",
      "Epoch 18/100\n",
      "12/12 [==============================] - 11s 879ms/step - loss: 0.0035 - accuracy: 1.0000 - val_loss: 0.0094 - val_accuracy: 1.0000\n",
      "Epoch 19/100\n",
      "12/12 [==============================] - 11s 886ms/step - loss: 0.0019 - accuracy: 1.0000 - val_loss: 0.0039 - val_accuracy: 1.0000\n",
      "Epoch 20/100\n",
      "12/12 [==============================] - 11s 878ms/step - loss: 0.0015 - accuracy: 1.0000 - val_loss: 0.0103 - val_accuracy: 1.0000\n",
      "Epoch 21/100\n",
      "12/12 [==============================] - 11s 883ms/step - loss: 0.0017 - accuracy: 1.0000 - val_loss: 0.0045 - val_accuracy: 1.0000\n",
      "Epoch 22/100\n",
      "12/12 [==============================] - 11s 882ms/step - loss: 0.0015 - accuracy: 1.0000 - val_loss: 0.0109 - val_accuracy: 1.0000\n",
      "Epoch 23/100\n",
      "12/12 [==============================] - 11s 881ms/step - loss: 0.0036 - accuracy: 0.9991 - val_loss: 0.0040 - val_accuracy: 1.0000\n",
      "Epoch 24/100\n",
      "12/12 [==============================] - 11s 876ms/step - loss: 0.0020 - accuracy: 1.0000 - val_loss: 0.0118 - val_accuracy: 0.9964\n",
      "Epoch 25/100\n",
      " 6/12 [==============>...............] - ETA: 5s - loss: 6.3815e-04 - accuracy: 1.0000"
     ]
    },
    {
     "ename": "KeyboardInterrupt",
     "evalue": "",
     "output_type": "error",
     "traceback": [
      "\u001b[0;31m---------------------------------------------------------------------------\u001b[0m",
      "\u001b[0;31mKeyboardInterrupt\u001b[0m                         Traceback (most recent call last)",
      "Cell \u001b[0;32mIn [314], line 11\u001b[0m\n\u001b[1;32m      9\u001b[0m model\u001b[38;5;241m.\u001b[39mcompile(loss \u001b[38;5;241m=\u001b[39m \u001b[38;5;124m'\u001b[39m\u001b[38;5;124mcategorical_crossentropy\u001b[39m\u001b[38;5;124m'\u001b[39m, optimizer \u001b[38;5;241m=\u001b[39madam,metrics\u001b[38;5;241m=\u001b[39m[\u001b[38;5;124m'\u001b[39m\u001b[38;5;124maccuracy\u001b[39m\u001b[38;5;124m'\u001b[39m]) \u001b[38;5;66;03m# optimizer = 'adam'\u001b[39;00m\n\u001b[1;32m     10\u001b[0m callback\u001b[38;5;241m=\u001b[39mtf\u001b[38;5;241m.\u001b[39mkeras\u001b[38;5;241m.\u001b[39mcallbacks\u001b[38;5;241m.\u001b[39mEarlyStopping(monitor\u001b[38;5;241m=\u001b[39m\u001b[38;5;124m'\u001b[39m\u001b[38;5;124mval_loss\u001b[39m\u001b[38;5;124m'\u001b[39m, patience\u001b[38;5;241m=\u001b[39m\u001b[38;5;241m20\u001b[39m,restore_best_weights \u001b[38;5;241m=\u001b[39m \u001b[38;5;28;01mTrue\u001b[39;00m)\n\u001b[0;32m---> 11\u001b[0m history\u001b[38;5;241m=\u001b[39mmodel\u001b[38;5;241m.\u001b[39mfit( X_all_shuffled[s]\u001b[38;5;241m.\u001b[39mreshape(\u001b[38;5;241m1404\u001b[39m, \u001b[38;5;241m9736\u001b[39m,\u001b[38;5;241m1\u001b[39m),\n\u001b[1;32m     12\u001b[0m                       to_categorical(Y_all_shuffled[s]),epochs\u001b[38;5;241m=\u001b[39m\u001b[38;5;241m100\u001b[39m, batch_size\u001b[38;5;241m=\u001b[39m\u001b[38;5;241m100\u001b[39m, validation_split\u001b[38;5;241m=\u001b[39m\u001b[38;5;241m0.2\u001b[39m, callbacks\u001b[38;5;241m=\u001b[39m[callback],verbose\u001b[38;5;241m=\u001b[39m\u001b[38;5;241m1\u001b[39m)\n",
      "File \u001b[0;32m~/.conda/envs/venv_py39/lib/python3.9/site-packages/keras/utils/traceback_utils.py:65\u001b[0m, in \u001b[0;36mfilter_traceback.<locals>.error_handler\u001b[0;34m(*args, **kwargs)\u001b[0m\n\u001b[1;32m     63\u001b[0m filtered_tb \u001b[38;5;241m=\u001b[39m \u001b[38;5;28;01mNone\u001b[39;00m\n\u001b[1;32m     64\u001b[0m \u001b[38;5;28;01mtry\u001b[39;00m:\n\u001b[0;32m---> 65\u001b[0m     \u001b[38;5;28;01mreturn\u001b[39;00m \u001b[43mfn\u001b[49m\u001b[43m(\u001b[49m\u001b[38;5;241;43m*\u001b[39;49m\u001b[43margs\u001b[49m\u001b[43m,\u001b[49m\u001b[43m \u001b[49m\u001b[38;5;241;43m*\u001b[39;49m\u001b[38;5;241;43m*\u001b[39;49m\u001b[43mkwargs\u001b[49m\u001b[43m)\u001b[49m\n\u001b[1;32m     66\u001b[0m \u001b[38;5;28;01mexcept\u001b[39;00m \u001b[38;5;167;01mException\u001b[39;00m \u001b[38;5;28;01mas\u001b[39;00m e:\n\u001b[1;32m     67\u001b[0m     filtered_tb \u001b[38;5;241m=\u001b[39m _process_traceback_frames(e\u001b[38;5;241m.\u001b[39m__traceback__)\n",
      "File \u001b[0;32m~/.conda/envs/venv_py39/lib/python3.9/site-packages/keras/engine/training.py:1564\u001b[0m, in \u001b[0;36mModel.fit\u001b[0;34m(self, x, y, batch_size, epochs, verbose, callbacks, validation_split, validation_data, shuffle, class_weight, sample_weight, initial_epoch, steps_per_epoch, validation_steps, validation_batch_size, validation_freq, max_queue_size, workers, use_multiprocessing)\u001b[0m\n\u001b[1;32m   1556\u001b[0m \u001b[38;5;28;01mwith\u001b[39;00m tf\u001b[38;5;241m.\u001b[39mprofiler\u001b[38;5;241m.\u001b[39mexperimental\u001b[38;5;241m.\u001b[39mTrace(\n\u001b[1;32m   1557\u001b[0m     \u001b[38;5;124m\"\u001b[39m\u001b[38;5;124mtrain\u001b[39m\u001b[38;5;124m\"\u001b[39m,\n\u001b[1;32m   1558\u001b[0m     epoch_num\u001b[38;5;241m=\u001b[39mepoch,\n\u001b[0;32m   (...)\u001b[0m\n\u001b[1;32m   1561\u001b[0m     _r\u001b[38;5;241m=\u001b[39m\u001b[38;5;241m1\u001b[39m,\n\u001b[1;32m   1562\u001b[0m ):\n\u001b[1;32m   1563\u001b[0m     callbacks\u001b[38;5;241m.\u001b[39mon_train_batch_begin(step)\n\u001b[0;32m-> 1564\u001b[0m     tmp_logs \u001b[38;5;241m=\u001b[39m \u001b[38;5;28;43mself\u001b[39;49m\u001b[38;5;241;43m.\u001b[39;49m\u001b[43mtrain_function\u001b[49m\u001b[43m(\u001b[49m\u001b[43miterator\u001b[49m\u001b[43m)\u001b[49m\n\u001b[1;32m   1565\u001b[0m     \u001b[38;5;28;01mif\u001b[39;00m data_handler\u001b[38;5;241m.\u001b[39mshould_sync:\n\u001b[1;32m   1566\u001b[0m         context\u001b[38;5;241m.\u001b[39masync_wait()\n",
      "File \u001b[0;32m~/.conda/envs/venv_py39/lib/python3.9/site-packages/tensorflow/python/util/traceback_utils.py:150\u001b[0m, in \u001b[0;36mfilter_traceback.<locals>.error_handler\u001b[0;34m(*args, **kwargs)\u001b[0m\n\u001b[1;32m    148\u001b[0m filtered_tb \u001b[38;5;241m=\u001b[39m \u001b[38;5;28;01mNone\u001b[39;00m\n\u001b[1;32m    149\u001b[0m \u001b[38;5;28;01mtry\u001b[39;00m:\n\u001b[0;32m--> 150\u001b[0m   \u001b[38;5;28;01mreturn\u001b[39;00m \u001b[43mfn\u001b[49m\u001b[43m(\u001b[49m\u001b[38;5;241;43m*\u001b[39;49m\u001b[43margs\u001b[49m\u001b[43m,\u001b[49m\u001b[43m \u001b[49m\u001b[38;5;241;43m*\u001b[39;49m\u001b[38;5;241;43m*\u001b[39;49m\u001b[43mkwargs\u001b[49m\u001b[43m)\u001b[49m\n\u001b[1;32m    151\u001b[0m \u001b[38;5;28;01mexcept\u001b[39;00m \u001b[38;5;167;01mException\u001b[39;00m \u001b[38;5;28;01mas\u001b[39;00m e:\n\u001b[1;32m    152\u001b[0m   filtered_tb \u001b[38;5;241m=\u001b[39m _process_traceback_frames(e\u001b[38;5;241m.\u001b[39m__traceback__)\n",
      "File \u001b[0;32m~/.conda/envs/venv_py39/lib/python3.9/site-packages/tensorflow/python/eager/def_function.py:915\u001b[0m, in \u001b[0;36mFunction.__call__\u001b[0;34m(self, *args, **kwds)\u001b[0m\n\u001b[1;32m    912\u001b[0m compiler \u001b[38;5;241m=\u001b[39m \u001b[38;5;124m\"\u001b[39m\u001b[38;5;124mxla\u001b[39m\u001b[38;5;124m\"\u001b[39m \u001b[38;5;28;01mif\u001b[39;00m \u001b[38;5;28mself\u001b[39m\u001b[38;5;241m.\u001b[39m_jit_compile \u001b[38;5;28;01melse\u001b[39;00m \u001b[38;5;124m\"\u001b[39m\u001b[38;5;124mnonXla\u001b[39m\u001b[38;5;124m\"\u001b[39m\n\u001b[1;32m    914\u001b[0m \u001b[38;5;28;01mwith\u001b[39;00m OptionalXlaContext(\u001b[38;5;28mself\u001b[39m\u001b[38;5;241m.\u001b[39m_jit_compile):\n\u001b[0;32m--> 915\u001b[0m   result \u001b[38;5;241m=\u001b[39m \u001b[38;5;28;43mself\u001b[39;49m\u001b[38;5;241;43m.\u001b[39;49m\u001b[43m_call\u001b[49m\u001b[43m(\u001b[49m\u001b[38;5;241;43m*\u001b[39;49m\u001b[43margs\u001b[49m\u001b[43m,\u001b[49m\u001b[43m \u001b[49m\u001b[38;5;241;43m*\u001b[39;49m\u001b[38;5;241;43m*\u001b[39;49m\u001b[43mkwds\u001b[49m\u001b[43m)\u001b[49m\n\u001b[1;32m    917\u001b[0m new_tracing_count \u001b[38;5;241m=\u001b[39m \u001b[38;5;28mself\u001b[39m\u001b[38;5;241m.\u001b[39mexperimental_get_tracing_count()\n\u001b[1;32m    918\u001b[0m without_tracing \u001b[38;5;241m=\u001b[39m (tracing_count \u001b[38;5;241m==\u001b[39m new_tracing_count)\n",
      "File \u001b[0;32m~/.conda/envs/venv_py39/lib/python3.9/site-packages/tensorflow/python/eager/def_function.py:947\u001b[0m, in \u001b[0;36mFunction._call\u001b[0;34m(self, *args, **kwds)\u001b[0m\n\u001b[1;32m    944\u001b[0m   \u001b[38;5;28mself\u001b[39m\u001b[38;5;241m.\u001b[39m_lock\u001b[38;5;241m.\u001b[39mrelease()\n\u001b[1;32m    945\u001b[0m   \u001b[38;5;66;03m# In this case we have created variables on the first call, so we run the\u001b[39;00m\n\u001b[1;32m    946\u001b[0m   \u001b[38;5;66;03m# defunned version which is guaranteed to never create variables.\u001b[39;00m\n\u001b[0;32m--> 947\u001b[0m   \u001b[38;5;28;01mreturn\u001b[39;00m \u001b[38;5;28;43mself\u001b[39;49m\u001b[38;5;241;43m.\u001b[39;49m\u001b[43m_stateless_fn\u001b[49m\u001b[43m(\u001b[49m\u001b[38;5;241;43m*\u001b[39;49m\u001b[43margs\u001b[49m\u001b[43m,\u001b[49m\u001b[43m \u001b[49m\u001b[38;5;241;43m*\u001b[39;49m\u001b[38;5;241;43m*\u001b[39;49m\u001b[43mkwds\u001b[49m\u001b[43m)\u001b[49m  \u001b[38;5;66;03m# pylint: disable=not-callable\u001b[39;00m\n\u001b[1;32m    948\u001b[0m \u001b[38;5;28;01melif\u001b[39;00m \u001b[38;5;28mself\u001b[39m\u001b[38;5;241m.\u001b[39m_stateful_fn \u001b[38;5;129;01mis\u001b[39;00m \u001b[38;5;129;01mnot\u001b[39;00m \u001b[38;5;28;01mNone\u001b[39;00m:\n\u001b[1;32m    949\u001b[0m   \u001b[38;5;66;03m# Release the lock early so that multiple threads can perform the call\u001b[39;00m\n\u001b[1;32m    950\u001b[0m   \u001b[38;5;66;03m# in parallel.\u001b[39;00m\n\u001b[1;32m    951\u001b[0m   \u001b[38;5;28mself\u001b[39m\u001b[38;5;241m.\u001b[39m_lock\u001b[38;5;241m.\u001b[39mrelease()\n",
      "File \u001b[0;32m~/.conda/envs/venv_py39/lib/python3.9/site-packages/tensorflow/python/eager/function.py:2496\u001b[0m, in \u001b[0;36mFunction.__call__\u001b[0;34m(self, *args, **kwargs)\u001b[0m\n\u001b[1;32m   2493\u001b[0m \u001b[38;5;28;01mwith\u001b[39;00m \u001b[38;5;28mself\u001b[39m\u001b[38;5;241m.\u001b[39m_lock:\n\u001b[1;32m   2494\u001b[0m   (graph_function,\n\u001b[1;32m   2495\u001b[0m    filtered_flat_args) \u001b[38;5;241m=\u001b[39m \u001b[38;5;28mself\u001b[39m\u001b[38;5;241m.\u001b[39m_maybe_define_function(args, kwargs)\n\u001b[0;32m-> 2496\u001b[0m \u001b[38;5;28;01mreturn\u001b[39;00m \u001b[43mgraph_function\u001b[49m\u001b[38;5;241;43m.\u001b[39;49m\u001b[43m_call_flat\u001b[49m\u001b[43m(\u001b[49m\n\u001b[1;32m   2497\u001b[0m \u001b[43m    \u001b[49m\u001b[43mfiltered_flat_args\u001b[49m\u001b[43m,\u001b[49m\u001b[43m \u001b[49m\u001b[43mcaptured_inputs\u001b[49m\u001b[38;5;241;43m=\u001b[39;49m\u001b[43mgraph_function\u001b[49m\u001b[38;5;241;43m.\u001b[39;49m\u001b[43mcaptured_inputs\u001b[49m\u001b[43m)\u001b[49m\n",
      "File \u001b[0;32m~/.conda/envs/venv_py39/lib/python3.9/site-packages/tensorflow/python/eager/function.py:1862\u001b[0m, in \u001b[0;36mConcreteFunction._call_flat\u001b[0;34m(self, args, captured_inputs, cancellation_manager)\u001b[0m\n\u001b[1;32m   1858\u001b[0m possible_gradient_type \u001b[38;5;241m=\u001b[39m gradients_util\u001b[38;5;241m.\u001b[39mPossibleTapeGradientTypes(args)\n\u001b[1;32m   1859\u001b[0m \u001b[38;5;28;01mif\u001b[39;00m (possible_gradient_type \u001b[38;5;241m==\u001b[39m gradients_util\u001b[38;5;241m.\u001b[39mPOSSIBLE_GRADIENT_TYPES_NONE\n\u001b[1;32m   1860\u001b[0m     \u001b[38;5;129;01mand\u001b[39;00m executing_eagerly):\n\u001b[1;32m   1861\u001b[0m   \u001b[38;5;66;03m# No tape is watching; skip to running the function.\u001b[39;00m\n\u001b[0;32m-> 1862\u001b[0m   \u001b[38;5;28;01mreturn\u001b[39;00m \u001b[38;5;28mself\u001b[39m\u001b[38;5;241m.\u001b[39m_build_call_outputs(\u001b[38;5;28;43mself\u001b[39;49m\u001b[38;5;241;43m.\u001b[39;49m\u001b[43m_inference_function\u001b[49m\u001b[38;5;241;43m.\u001b[39;49m\u001b[43mcall\u001b[49m\u001b[43m(\u001b[49m\n\u001b[1;32m   1863\u001b[0m \u001b[43m      \u001b[49m\u001b[43mctx\u001b[49m\u001b[43m,\u001b[49m\u001b[43m \u001b[49m\u001b[43margs\u001b[49m\u001b[43m,\u001b[49m\u001b[43m \u001b[49m\u001b[43mcancellation_manager\u001b[49m\u001b[38;5;241;43m=\u001b[39;49m\u001b[43mcancellation_manager\u001b[49m\u001b[43m)\u001b[49m)\n\u001b[1;32m   1864\u001b[0m forward_backward \u001b[38;5;241m=\u001b[39m \u001b[38;5;28mself\u001b[39m\u001b[38;5;241m.\u001b[39m_select_forward_and_backward_functions(\n\u001b[1;32m   1865\u001b[0m     args,\n\u001b[1;32m   1866\u001b[0m     possible_gradient_type,\n\u001b[1;32m   1867\u001b[0m     executing_eagerly)\n\u001b[1;32m   1868\u001b[0m forward_function, args_with_tangents \u001b[38;5;241m=\u001b[39m forward_backward\u001b[38;5;241m.\u001b[39mforward()\n",
      "File \u001b[0;32m~/.conda/envs/venv_py39/lib/python3.9/site-packages/tensorflow/python/eager/function.py:499\u001b[0m, in \u001b[0;36m_EagerDefinedFunction.call\u001b[0;34m(self, ctx, args, cancellation_manager)\u001b[0m\n\u001b[1;32m    497\u001b[0m \u001b[38;5;28;01mwith\u001b[39;00m _InterpolateFunctionError(\u001b[38;5;28mself\u001b[39m):\n\u001b[1;32m    498\u001b[0m   \u001b[38;5;28;01mif\u001b[39;00m cancellation_manager \u001b[38;5;129;01mis\u001b[39;00m \u001b[38;5;28;01mNone\u001b[39;00m:\n\u001b[0;32m--> 499\u001b[0m     outputs \u001b[38;5;241m=\u001b[39m \u001b[43mexecute\u001b[49m\u001b[38;5;241;43m.\u001b[39;49m\u001b[43mexecute\u001b[49m\u001b[43m(\u001b[49m\n\u001b[1;32m    500\u001b[0m \u001b[43m        \u001b[49m\u001b[38;5;28;43mstr\u001b[39;49m\u001b[43m(\u001b[49m\u001b[38;5;28;43mself\u001b[39;49m\u001b[38;5;241;43m.\u001b[39;49m\u001b[43msignature\u001b[49m\u001b[38;5;241;43m.\u001b[39;49m\u001b[43mname\u001b[49m\u001b[43m)\u001b[49m\u001b[43m,\u001b[49m\n\u001b[1;32m    501\u001b[0m \u001b[43m        \u001b[49m\u001b[43mnum_outputs\u001b[49m\u001b[38;5;241;43m=\u001b[39;49m\u001b[38;5;28;43mself\u001b[39;49m\u001b[38;5;241;43m.\u001b[39;49m\u001b[43m_num_outputs\u001b[49m\u001b[43m,\u001b[49m\n\u001b[1;32m    502\u001b[0m \u001b[43m        \u001b[49m\u001b[43minputs\u001b[49m\u001b[38;5;241;43m=\u001b[39;49m\u001b[43margs\u001b[49m\u001b[43m,\u001b[49m\n\u001b[1;32m    503\u001b[0m \u001b[43m        \u001b[49m\u001b[43mattrs\u001b[49m\u001b[38;5;241;43m=\u001b[39;49m\u001b[43mattrs\u001b[49m\u001b[43m,\u001b[49m\n\u001b[1;32m    504\u001b[0m \u001b[43m        \u001b[49m\u001b[43mctx\u001b[49m\u001b[38;5;241;43m=\u001b[39;49m\u001b[43mctx\u001b[49m\u001b[43m)\u001b[49m\n\u001b[1;32m    505\u001b[0m   \u001b[38;5;28;01melse\u001b[39;00m:\n\u001b[1;32m    506\u001b[0m     outputs \u001b[38;5;241m=\u001b[39m execute\u001b[38;5;241m.\u001b[39mexecute_with_cancellation(\n\u001b[1;32m    507\u001b[0m         \u001b[38;5;28mstr\u001b[39m(\u001b[38;5;28mself\u001b[39m\u001b[38;5;241m.\u001b[39msignature\u001b[38;5;241m.\u001b[39mname),\n\u001b[1;32m    508\u001b[0m         num_outputs\u001b[38;5;241m=\u001b[39m\u001b[38;5;28mself\u001b[39m\u001b[38;5;241m.\u001b[39m_num_outputs,\n\u001b[0;32m   (...)\u001b[0m\n\u001b[1;32m    511\u001b[0m         ctx\u001b[38;5;241m=\u001b[39mctx,\n\u001b[1;32m    512\u001b[0m         cancellation_manager\u001b[38;5;241m=\u001b[39mcancellation_manager)\n",
      "File \u001b[0;32m~/.conda/envs/venv_py39/lib/python3.9/site-packages/tensorflow/python/eager/execute.py:54\u001b[0m, in \u001b[0;36mquick_execute\u001b[0;34m(op_name, num_outputs, inputs, attrs, ctx, name)\u001b[0m\n\u001b[1;32m     52\u001b[0m \u001b[38;5;28;01mtry\u001b[39;00m:\n\u001b[1;32m     53\u001b[0m   ctx\u001b[38;5;241m.\u001b[39mensure_initialized()\n\u001b[0;32m---> 54\u001b[0m   tensors \u001b[38;5;241m=\u001b[39m \u001b[43mpywrap_tfe\u001b[49m\u001b[38;5;241;43m.\u001b[39;49m\u001b[43mTFE_Py_Execute\u001b[49m\u001b[43m(\u001b[49m\u001b[43mctx\u001b[49m\u001b[38;5;241;43m.\u001b[39;49m\u001b[43m_handle\u001b[49m\u001b[43m,\u001b[49m\u001b[43m \u001b[49m\u001b[43mdevice_name\u001b[49m\u001b[43m,\u001b[49m\u001b[43m \u001b[49m\u001b[43mop_name\u001b[49m\u001b[43m,\u001b[49m\n\u001b[1;32m     55\u001b[0m \u001b[43m                                      \u001b[49m\u001b[43minputs\u001b[49m\u001b[43m,\u001b[49m\u001b[43m \u001b[49m\u001b[43mattrs\u001b[49m\u001b[43m,\u001b[49m\u001b[43m \u001b[49m\u001b[43mnum_outputs\u001b[49m\u001b[43m)\u001b[49m\n\u001b[1;32m     56\u001b[0m \u001b[38;5;28;01mexcept\u001b[39;00m core\u001b[38;5;241m.\u001b[39m_NotOkStatusException \u001b[38;5;28;01mas\u001b[39;00m e:\n\u001b[1;32m     57\u001b[0m   \u001b[38;5;28;01mif\u001b[39;00m name \u001b[38;5;129;01mis\u001b[39;00m \u001b[38;5;129;01mnot\u001b[39;00m \u001b[38;5;28;01mNone\u001b[39;00m:\n",
      "\u001b[0;31mKeyboardInterrupt\u001b[0m: "
     ]
    }
   ],
   "source": [
    " for s in range(1,2):\n",
    "        \n",
    "    lr=tf.keras.optimizers.schedules.ExponentialDecay(\n",
    "        initial_learning_rate=0.0005, decay_steps=50, decay_rate=0.9, staircase=False, name=None\n",
    "    )\n",
    "    adam=tf.keras.optimizers.Adam(learning_rate=0.001)#learning_rate=0.0005\n",
    "    \n",
    "    model=OneD_EEGNet()\n",
    "    model.compile(loss = 'categorical_crossentropy', optimizer =adam,metrics=['accuracy']) # optimizer = 'adam'\n",
    "    callback=tf.keras.callbacks.EarlyStopping(monitor='val_loss', patience=20,restore_best_weights = True)\n",
    "    history=model.fit( X_all_shuffled[s].reshape(1404, 9736,1),\n",
    "                          to_categorical(Y_all_shuffled[s]),epochs=100, batch_size=100, validation_split=0.2, callbacks=[callback],verbose=1) "
   ]
  },
  {
   "cell_type": "code",
   "execution_count": 304,
   "id": "0a5c7472",
   "metadata": {},
   "outputs": [],
   "source": [
    "best_weights = model.get_weights()\n",
    "model.set_weights(best_weights)"
   ]
  },
  {
   "cell_type": "code",
   "execution_count": 118,
   "id": "8c33de7e",
   "metadata": {},
   "outputs": [],
   "source": [
    "quality_model=model"
   ]
  },
  {
   "cell_type": "code",
   "execution_count": 153,
   "id": "dff18d0d",
   "metadata": {},
   "outputs": [],
   "source": [
    "#model.summary()"
   ]
  },
  {
   "cell_type": "code",
   "execution_count": null,
   "id": "ba43e98d",
   "metadata": {},
   "outputs": [],
   "source": []
  },
  {
   "cell_type": "code",
   "execution_count": 315,
   "id": "7f9f32a8",
   "metadata": {},
   "outputs": [
    {
     "name": "stdout",
     "output_type": "stream",
     "text": [
      "5/5 [==============================] - 0s 26ms/step\n",
      "ep score 0.9935897435897436\n",
      "0.015912706 25.984089\n",
      "0.9839079 25.01609\n",
      "0.00077264634 25.999228\n",
      "25.99489 0.005109649\n",
      "25.999779 0.00021897478\n",
      "25.998386 0.0016118996\n",
      "score 1.0\n"
     ]
    }
   ],
   "source": [
    "#os.chdir('/home/jupy/SavedModel/autoencoder/T0_to_T0/classifier')\n",
    "for s in range(1,2):\n",
    "    #classifier=load_model(f'n_set{s}_btw_encoder_T0_classifier')\n",
    "    classifier=model\n",
    "    result=[]\n",
    "    predicted=classifier.predict(Xtest[s])\n",
    "    for i in range (0,np.array(predicted).shape[0]):\n",
    "            if predicted[i][0]>predicted[i][1]:\n",
    "                result.append([0])\n",
    "            else:\n",
    "                result.append([1])\n",
    "    print('ep score',accuracy_score(result,Ytest[s]))\n",
    "    pred=subj_class_prob(result)\n",
    "\n",
    "    print('score',accuracy_score(pred,y_test_short))"
   ]
  },
  {
   "cell_type": "raw",
   "id": "1f14bc0c",
   "metadata": {},
   "source": [
    "robust_layer_model = Model(inputs=quality_model.input,outputs=quality_model.get_layer('average_pooling1d_11').output)\n",
    "robust_feature_output= robust_layer_model.predict( X_all_shuffled[s])\n",
    "print(robust_feature_output.shape)\n",
    "robust_feature_output.shape\n",
    "robust_feature_outputs=np.zeros([1404,int(robust_feature_output.shape[1]*robust_feature_output.shape[2])])\n",
    "for i in range(0,1404):\n",
    "    robust_feature_outputs[i,:]=robust_feature_output[i,:,:].flatten()"
   ]
  },
  {
   "cell_type": "code",
   "execution_count": null,
   "id": "70af5fec",
   "metadata": {},
   "outputs": [],
   "source": []
  },
  {
   "cell_type": "code",
   "execution_count": 45,
   "id": "d03d6124",
   "metadata": {},
   "outputs": [
    {
     "name": "stderr",
     "output_type": "stream",
     "text": [
      "/home/jupy/.conda/envs/venv_py39/lib/python3.9/site-packages/sklearn/manifold/_t_sne.py:800: FutureWarning: The default initialization in TSNE will change from 'random' to 'pca' in 1.2.\n",
      "  warnings.warn(\n",
      "/home/jupy/.conda/envs/venv_py39/lib/python3.9/site-packages/sklearn/manifold/_t_sne.py:810: FutureWarning: The default learning rate in TSNE will change from 200.0 to 'auto' in 1.2.\n",
      "  warnings.warn(\n",
      "/home/jupy/.conda/envs/venv_py39/lib/python3.9/site-packages/sklearn/manifold/_t_sne.py:800: FutureWarning: The default initialization in TSNE will change from 'random' to 'pca' in 1.2.\n",
      "  warnings.warn(\n",
      "/home/jupy/.conda/envs/venv_py39/lib/python3.9/site-packages/sklearn/manifold/_t_sne.py:810: FutureWarning: The default learning rate in TSNE will change from 200.0 to 'auto' in 1.2.\n",
      "  warnings.warn(\n",
      "/home/jupy/.conda/envs/venv_py39/lib/python3.9/site-packages/sklearn/manifold/_t_sne.py:800: FutureWarning: The default initialization in TSNE will change from 'random' to 'pca' in 1.2.\n",
      "  warnings.warn(\n",
      "/home/jupy/.conda/envs/venv_py39/lib/python3.9/site-packages/sklearn/manifold/_t_sne.py:810: FutureWarning: The default learning rate in TSNE will change from 200.0 to 'auto' in 1.2.\n",
      "  warnings.warn(\n"
     ]
    }
   ],
   "source": [
    "from sklearn.manifold import TSNE\n",
    "\n",
    "tsne= TSNE(n_components=2, perplexity=15)\n",
    "tsne_feat=tsne.fit_transform(Adapt_feat_0_0[:,feat_id])\n",
    "tsne_vae=tsne.fit_transform(Adapt_feat_0_0)\n",
    "tsne_org=tsne.fit_transform(raw_0)"
   ]
  },
  {
   "cell_type": "code",
   "execution_count": 87,
   "id": "b5cf325e",
   "metadata": {},
   "outputs": [
    {
     "data": {
      "image/png": "[encoded data removed]",
      "text/plain": [
       "<Figure size 640x480 with 1 Axes>"
      ]
     },
     "metadata": {},
     "output_type": "display_data"
    }
   ],
   "source": [
    "\n",
    "for i in [0, 10, 20, 29, 31, 40, 48, 59]:\n",
    "    if i < 30:\n",
    "        plt.scatter(\n",
    "            tsne_org[i * 26:(i + 1) * 26, 0],\n",
    "            tsne_org[i * 26:(i + 1) * 26, 1],\n",
    "            alpha=0.7, marker='+',\n",
    "            s=50, label='Lean')\n",
    "    else:\n",
    "        plt.scatter(\n",
    "            tsne_org[i * 26:(i + 1) * 26, 0],\n",
    "            tsne_org[i * 26:(i + 1) * 26, 1],\n",
    "            alpha=0.5, marker='o',\n",
    "            s=50, label='Obese')\n",
    "\n",
    "#plt.legend(['Lean', 'Obese'])\n",
    "plt.show()\n"
   ]
  },
  {
   "cell_type": "code",
   "execution_count": null,
   "id": "bb362424",
   "metadata": {},
   "outputs": [],
   "source": []
  },
  {
   "cell_type": "code",
   "execution_count": 86,
   "id": "37a0b1e6",
   "metadata": {},
   "outputs": [
    {
     "data": {
      "image/png": "[encoded data removed]",
      "text/plain": [
       "<Figure size 640x480 with 1 Axes>"
      ]
     },
     "metadata": {},
     "output_type": "display_data"
    }
   ],
   "source": [
    "for i in [8, 4, 12, 24, 41, 49, 34, 50]:\n",
    "    if i < 30:\n",
    "        plt.scatter(\n",
    "            tsne_vae[i * 26:(i + 1) * 26, 0],\n",
    "            tsne_vae[i * 26:(i + 1) * 26, 1],\n",
    "            alpha=0.7, marker='+',\n",
    "            s=50, label='Lean')\n",
    "    else:\n",
    "        plt.scatter(\n",
    "            tsne_vae[i * 26:(i + 1) * 26, 0],\n",
    "            tsne_vae[i * 26:(i + 1) * 26, 1],\n",
    "            alpha=0.5, marker='o',\n",
    "            s=50, label='Obese')\n",
    "\n",
    "#plt.legend(['Lean', 'Obese'])\n",
    "plt.show()"
   ]
  },
  {
   "cell_type": "code",
   "execution_count": 85,
   "id": "b5bc939d",
   "metadata": {},
   "outputs": [
    {
     "data": {
      "image/png": "[encoded data removed]",
      "text/plain": [
       "<Figure size 640x480 with 1 Axes>"
      ]
     },
     "metadata": {},
     "output_type": "display_data"
    }
   ],
   "source": [
    "\n",
    "\n",
    "for i in [0, 10, 20, 29, 31, 40, 48, 59]:\n",
    "    if i < 30:\n",
    "        plt.scatter(\n",
    "            tsne_feat[i * 26:(i + 1) * 26, 0],\n",
    "            tsne_feat[i * 26:(i + 1) * 26, 1],\n",
    "            alpha=0.7, marker='+',\n",
    "            s=50, label='Lean')\n",
    "    else:\n",
    "        plt.scatter(\n",
    "            tsne_feat[i * 26:(i + 1) * 26, 0],\n",
    "            tsne_feat[i * 26:(i + 1) * 26, 1],\n",
    "            alpha=0.5, marker='o',\n",
    "            s=50, label='Obese')\n"
   ]
  },
  {
   "cell_type": "code",
   "execution_count": null,
   "id": "9ce5d62d",
   "metadata": {},
   "outputs": [],
   "source": [
    "\n"
   ]
  },
  {
   "cell_type": "markdown",
   "id": "7cab58a1",
   "metadata": {},
   "source": [
    "# robust_feature_outputs.shape"
   ]
  },
  {
   "cell_type": "code",
   "execution_count": 165,
   "id": "63bb5598",
   "metadata": {},
   "outputs": [],
   "source": [
    "def OneD_EEGNet(nb_classes=2,dropoutRate = 0.25,norm_rate = 0.25, dropoutType = 'Dropout'):\n",
    "\n",
    "        input1   = Input(shape = (9568, 1))\n",
    "\n",
    "        ##################################################################\n",
    "        block1       = Conv1D(8, (64))(input1)\n",
    "        block1       = BatchNormalization()(block1)\n",
    "        block1       = Activation('relu')(block1)\n",
    "\n",
    "        block1       = Conv1D(16, (32))(block1)\n",
    "        block1       = BatchNormalization()(block1)\n",
    "        block1       = Activation('relu')(block1)\n",
    "\n",
    "        block1       = AveragePooling1D((4))(block1)\n",
    "        block1       = Dropout(dropoutRate)(block1)\n",
    "\n",
    "        block2       = Conv1D(32, (16))(block1)\n",
    "        block2       = BatchNormalization()(block2)\n",
    "        block2       = Activation('relu')(block2)\n",
    "\n",
    "        block2       = AveragePooling1D((8))(block2)\n",
    "        #block2       = tf.keras.layers.GlobalAveragePooling2D()(block2)\n",
    "        block2       = Dropout(dropoutRate)(block2)\n",
    "\n",
    "        flatten      = Flatten(name = 'flatten')(block2)\n",
    "        initializer = initializer = tf.keras.initializers.Identity()\n",
    "        dense        = Dense(nb_classes, name = 'dense', \n",
    "                             kernel_constraint = max_norm(norm_rate),kernel_initializer=initializer)(flatten)\n",
    "        softmax      = Activation('softmax', name = 'softmax')(dense)\n",
    "\n",
    "        return Model(inputs=input1, outputs=softmax)   "
   ]
  },
  {
   "cell_type": "code",
   "execution_count": 168,
   "id": "ccf67587",
   "metadata": {
    "scrolled": true
   },
   "outputs": [
    {
     "name": "stdout",
     "output_type": "stream",
     "text": [
      "Epoch 1/100\n",
      "12/12 [==============================] - 11s 879ms/step - loss: 0.6920 - accuracy: 0.5298 - val_loss: 0.6905 - val_accuracy: 0.5658\n",
      "Epoch 2/100\n",
      "12/12 [==============================] - 11s 873ms/step - loss: 0.6310 - accuracy: 0.7079 - val_loss: 0.6859 - val_accuracy: 0.7260\n",
      "Epoch 3/100\n",
      "12/12 [==============================] - 11s 874ms/step - loss: 0.5254 - accuracy: 0.8344 - val_loss: 0.6757 - val_accuracy: 0.5836\n",
      "Epoch 4/100\n",
      "12/12 [==============================] - 11s 876ms/step - loss: 0.4028 - accuracy: 0.8744 - val_loss: 0.6761 - val_accuracy: 0.4591\n",
      "Epoch 5/100\n",
      "12/12 [==============================] - 11s 876ms/step - loss: 0.2951 - accuracy: 0.9074 - val_loss: 0.7200 - val_accuracy: 0.4484\n",
      "Epoch 6/100\n",
      "12/12 [==============================] - 10s 872ms/step - loss: 0.2341 - accuracy: 0.9288 - val_loss: 0.8366 - val_accuracy: 0.4448\n",
      "Epoch 7/100\n",
      "12/12 [==============================] - 10s 870ms/step - loss: 0.1924 - accuracy: 0.9412 - val_loss: 0.9468 - val_accuracy: 0.4448\n",
      "Epoch 8/100\n",
      "12/12 [==============================] - 11s 872ms/step - loss: 0.1613 - accuracy: 0.9510 - val_loss: 1.1197 - val_accuracy: 0.4448\n",
      "Epoch 9/100\n",
      "12/12 [==============================] - 10s 865ms/step - loss: 0.1377 - accuracy: 0.9644 - val_loss: 1.2792 - val_accuracy: 0.4448\n",
      "Epoch 10/100\n",
      "12/12 [==============================] - 11s 876ms/step - loss: 0.1226 - accuracy: 0.9608 - val_loss: 1.4193 - val_accuracy: 0.4448\n",
      "Epoch 11/100\n",
      "12/12 [==============================] - 10s 869ms/step - loss: 0.1036 - accuracy: 0.9608 - val_loss: 1.3375 - val_accuracy: 0.4484\n",
      "Epoch 12/100\n",
      "12/12 [==============================] - 10s 868ms/step - loss: 0.0910 - accuracy: 0.9840 - val_loss: 1.5231 - val_accuracy: 0.4484\n",
      "Epoch 13/100\n",
      "12/12 [==============================] - 11s 874ms/step - loss: 0.0835 - accuracy: 0.9786 - val_loss: 1.5745 - val_accuracy: 0.4484\n",
      "Epoch 14/100\n",
      "12/12 [==============================] - 10s 872ms/step - loss: 0.0764 - accuracy: 0.9715 - val_loss: 1.6613 - val_accuracy: 0.4484\n",
      "Epoch 15/100\n",
      "12/12 [==============================] - 11s 872ms/step - loss: 0.0640 - accuracy: 0.9911 - val_loss: 1.5502 - val_accuracy: 0.4555\n",
      "Epoch 16/100\n",
      "12/12 [==============================] - 11s 871ms/step - loss: 0.0667 - accuracy: 0.9822 - val_loss: 1.4566 - val_accuracy: 0.4698\n",
      "Epoch 17/100\n",
      "12/12 [==============================] - 11s 871ms/step - loss: 0.0459 - accuracy: 0.9911 - val_loss: 1.2685 - val_accuracy: 0.5089\n",
      "Epoch 18/100\n",
      "12/12 [==============================] - 11s 871ms/step - loss: 0.0459 - accuracy: 0.9920 - val_loss: 1.1905 - val_accuracy: 0.5374\n",
      "Epoch 19/100\n",
      "12/12 [==============================] - 11s 873ms/step - loss: 0.0401 - accuracy: 0.9929 - val_loss: 1.1504 - val_accuracy: 0.5409\n",
      "Epoch 20/100\n",
      "12/12 [==============================] - 11s 879ms/step - loss: 0.0387 - accuracy: 0.9947 - val_loss: 0.8870 - val_accuracy: 0.6335\n",
      "Epoch 21/100\n",
      "12/12 [==============================] - 11s 877ms/step - loss: 0.0407 - accuracy: 0.9911 - val_loss: 1.0857 - val_accuracy: 0.5765\n",
      "Epoch 22/100\n",
      "12/12 [==============================] - 10s 868ms/step - loss: 0.0352 - accuracy: 0.9920 - val_loss: 1.1695 - val_accuracy: 0.5623\n",
      "Epoch 23/100\n",
      "12/12 [==============================] - 10s 871ms/step - loss: 0.0316 - accuracy: 0.9929 - val_loss: 0.9549 - val_accuracy: 0.6370\n"
     ]
    }
   ],
   "source": [
    " for s in range(1,2):\n",
    "        \n",
    "    lr=tf.keras.optimizers.schedules.ExponentialDecay(\n",
    "        initial_learning_rate=0.001, decay_steps=50, decay_rate=0.9, staircase=False, name=None\n",
    "    )\n",
    "    adam=tf.keras.optimizers.Adam(learning_rate=0.0001)#learning_rate=0.0005\n",
    "    \n",
    "    model=OneD_EEGNet()\n",
    "    model.compile(loss = 'categorical_crossentropy', optimizer =adam,metrics=['accuracy']) # optimizer = 'adam'\n",
    "    callback=tf.keras.callbacks.EarlyStopping(monitor='val_loss', patience=20,restore_best_weights = True)\n",
    "    history=model.fit( robust_feature_outputs.reshape(1404, 9568,1),\n",
    "                          to_categorical(Y_all_shuffled[s]),epochs=100, batch_size=100, validation_split=0.2, callbacks=[callback],verbose=1) "
   ]
  },
  {
   "cell_type": "code",
   "execution_count": 169,
   "id": "8b1da074",
   "metadata": {},
   "outputs": [],
   "source": [
    "best_weights = model.get_weights()\n",
    "model.set_weights(best_weights)"
   ]
  },
  {
   "cell_type": "code",
   "execution_count": 170,
   "id": "ebcc73e2",
   "metadata": {},
   "outputs": [
    {
     "name": "stdout",
     "output_type": "stream",
     "text": [
      "5/5 [==============================] - 0s 26ms/step\n"
     ]
    }
   ],
   "source": [
    "#robust_layer_model = Model(inputs=quality_model.input,outputs=quality_model.get_layer('average_pooling1d_1').output)\n",
    "robust_feature_output_test= robust_layer_model.predict( Xtest[s])\n",
    "\n",
    "\n",
    "robust_feature_outputs_test=np.zeros([Xtest[s].shape[0],int(299*32)])\n",
    "for i in range(0,Xtest[s].shape[0]):\n",
    "    robust_feature_outputs_test[i*26:(i+1)*26,:]=robust_feature_output_test[i,:,:].flatten()"
   ]
  },
  {
   "cell_type": "code",
   "execution_count": 175,
   "id": "39fd9244",
   "metadata": {},
   "outputs": [
    {
     "data": {
      "text/plain": [
       "(156, 9568)"
      ]
     },
     "execution_count": 175,
     "metadata": {},
     "output_type": "execute_result"
    }
   ],
   "source": [
    "robust_feature_outputs_test.shape"
   ]
  },
  {
   "cell_type": "code",
   "execution_count": 174,
   "id": "59b0205e",
   "metadata": {},
   "outputs": [
    {
     "data": {
      "text/plain": [
       "(156, 9736)"
      ]
     },
     "execution_count": 174,
     "metadata": {},
     "output_type": "execute_result"
    }
   ],
   "source": [
    "#model.summary()\n",
    "Xtest[s].shape"
   ]
  },
  {
   "cell_type": "code",
   "execution_count": 176,
   "id": "929b1301",
   "metadata": {},
   "outputs": [
    {
     "name": "stdout",
     "output_type": "stream",
     "text": [
      "5/5 [==============================] - 0s 25ms/step\n",
      "ep score 0.5\n",
      "11.384966 14.615033\n",
      "11.857745 14.142255\n",
      "11.915186 14.084812\n",
      "11.391049 14.608952\n",
      "11.599937 14.400062\n",
      "11.50978 14.490218\n",
      "score 0.5\n"
     ]
    }
   ],
   "source": [
    "for s in range(1,2):\n",
    "    #classifier=load_model(f'n_set{s}_btw_encoder_T0_classifier')\n",
    "    classifier=model\n",
    "    result=[]\n",
    "    predicted=classifier.predict(robust_feature_outputs_test)\n",
    "    for i in range (0,np.array(predicted).shape[0]):\n",
    "            if predicted[i][0]>predicted[i][1]:\n",
    "                result.append([0])\n",
    "            else:\n",
    "                result.append([1])\n",
    "    print('ep score',accuracy_score(result,Ytest[s]))\n",
    "    pred=subj_class_prob(result)\n",
    "\n",
    "    print('score',accuracy_score(pred,y_test_short))"
   ]
  }
 ],
 "metadata": {
  "kernelspec": {
   "display_name": "venv_py39",
   "language": "python",
   "name": "venv_py39"
  },
  "language_info": {
   "codemirror_mode": {
    "name": "ipython",
    "version": 3
   },
   "file_extension": ".py",
   "mimetype": "text/x-python",
   "name": "python",
   "nbconvert_exporter": "python",
   "pygments_lexer": "ipython3",
   "version": "3.9.13"
  }
 },
 "nbformat": 4,
 "nbformat_minor": 5
}
